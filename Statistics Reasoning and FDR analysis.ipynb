{
 "cells": [
  {
   "cell_type": "markdown",
   "id": "865c1b7c",
   "metadata": {},
   "source": [
    "## Statistics Reasoning and FDR analysis"
   ]
  },
  {
   "cell_type": "markdown",
   "id": "b380b413",
   "metadata": {
    "id": "b380b413"
   },
   "source": [
    "Use the data_interactions_1.csv to create linear regression models with and without interactions between the features to regress the ‘sales’. Explain the differences (if any) in the models and state possible reasons for the same."
   ]
  },
  {
   "cell_type": "code",
   "execution_count": null,
   "id": "ARlHVucjKCug",
   "metadata": {
    "colab": {
     "base_uri": "https://localhost:8080/"
    },
    "id": "ARlHVucjKCug",
    "outputId": "306d36f4-d2e4-491e-e5d9-efcb9b1ffb01"
   },
   "outputs": [
    {
     "name": "stdout",
     "output_type": "stream",
     "text": [
      "Mounted at /content/drive\n"
     ]
    }
   ],
   "source": [
    "from google.colab import drive\n",
    "drive.mount('/content/drive')"
   ]
  },
  {
   "cell_type": "code",
   "execution_count": null,
   "id": "883bfdb6",
   "metadata": {
    "colab": {
     "base_uri": "https://localhost:8080/",
     "height": 423
    },
    "id": "883bfdb6",
    "outputId": "7827a046-78f4-445c-8841-37c066122743"
   },
   "outputs": [
    {
     "data": {
      "text/html": [
       "\n",
       "  <div id=\"df-2c844851-23e8-4c05-ba51-bcbdb0f2b01f\">\n",
       "    <div class=\"colab-df-container\">\n",
       "      <div>\n",
       "<style scoped>\n",
       "    .dataframe tbody tr th:only-of-type {\n",
       "        vertical-align: middle;\n",
       "    }\n",
       "\n",
       "    .dataframe tbody tr th {\n",
       "        vertical-align: top;\n",
       "    }\n",
       "\n",
       "    .dataframe thead th {\n",
       "        text-align: right;\n",
       "    }\n",
       "</style>\n",
       "<table border=\"1\" class=\"dataframe\">\n",
       "  <thead>\n",
       "    <tr style=\"text-align: right;\">\n",
       "      <th></th>\n",
       "      <th>youtube</th>\n",
       "      <th>facebook</th>\n",
       "      <th>newspaper</th>\n",
       "      <th>sales</th>\n",
       "    </tr>\n",
       "  </thead>\n",
       "  <tbody>\n",
       "    <tr>\n",
       "      <th>0</th>\n",
       "      <td>276.12</td>\n",
       "      <td>45.36</td>\n",
       "      <td>83.04</td>\n",
       "      <td>26.52</td>\n",
       "    </tr>\n",
       "    <tr>\n",
       "      <th>1</th>\n",
       "      <td>53.40</td>\n",
       "      <td>47.16</td>\n",
       "      <td>54.12</td>\n",
       "      <td>12.48</td>\n",
       "    </tr>\n",
       "    <tr>\n",
       "      <th>2</th>\n",
       "      <td>20.64</td>\n",
       "      <td>55.08</td>\n",
       "      <td>83.16</td>\n",
       "      <td>11.16</td>\n",
       "    </tr>\n",
       "    <tr>\n",
       "      <th>3</th>\n",
       "      <td>181.80</td>\n",
       "      <td>49.56</td>\n",
       "      <td>70.20</td>\n",
       "      <td>22.20</td>\n",
       "    </tr>\n",
       "    <tr>\n",
       "      <th>4</th>\n",
       "      <td>216.96</td>\n",
       "      <td>12.96</td>\n",
       "      <td>70.08</td>\n",
       "      <td>15.48</td>\n",
       "    </tr>\n",
       "    <tr>\n",
       "      <th>...</th>\n",
       "      <td>...</td>\n",
       "      <td>...</td>\n",
       "      <td>...</td>\n",
       "      <td>...</td>\n",
       "    </tr>\n",
       "    <tr>\n",
       "      <th>195</th>\n",
       "      <td>45.84</td>\n",
       "      <td>4.44</td>\n",
       "      <td>16.56</td>\n",
       "      <td>9.12</td>\n",
       "    </tr>\n",
       "    <tr>\n",
       "      <th>196</th>\n",
       "      <td>113.04</td>\n",
       "      <td>5.88</td>\n",
       "      <td>9.72</td>\n",
       "      <td>11.64</td>\n",
       "    </tr>\n",
       "    <tr>\n",
       "      <th>197</th>\n",
       "      <td>212.40</td>\n",
       "      <td>11.16</td>\n",
       "      <td>7.68</td>\n",
       "      <td>15.36</td>\n",
       "    </tr>\n",
       "    <tr>\n",
       "      <th>198</th>\n",
       "      <td>340.32</td>\n",
       "      <td>50.40</td>\n",
       "      <td>79.44</td>\n",
       "      <td>30.60</td>\n",
       "    </tr>\n",
       "    <tr>\n",
       "      <th>199</th>\n",
       "      <td>278.52</td>\n",
       "      <td>10.32</td>\n",
       "      <td>10.44</td>\n",
       "      <td>16.08</td>\n",
       "    </tr>\n",
       "  </tbody>\n",
       "</table>\n",
       "<p>200 rows × 4 columns</p>\n",
       "</div>\n",
       "      <button class=\"colab-df-convert\" onclick=\"convertToInteractive('df-2c844851-23e8-4c05-ba51-bcbdb0f2b01f')\"\n",
       "              title=\"Convert this dataframe to an interactive table.\"\n",
       "              style=\"display:none;\">\n",
       "        \n",
       "  <svg xmlns=\"http://www.w3.org/2000/svg\" height=\"24px\"viewBox=\"0 0 24 24\"\n",
       "       width=\"24px\">\n",
       "    <path d=\"M0 0h24v24H0V0z\" fill=\"none\"/>\n",
       "    <path d=\"M18.56 5.44l.94 2.06.94-2.06 2.06-.94-2.06-.94-.94-2.06-.94 2.06-2.06.94zm-11 1L8.5 8.5l.94-2.06 2.06-.94-2.06-.94L8.5 2.5l-.94 2.06-2.06.94zm10 10l.94 2.06.94-2.06 2.06-.94-2.06-.94-.94-2.06-.94 2.06-2.06.94z\"/><path d=\"M17.41 7.96l-1.37-1.37c-.4-.4-.92-.59-1.43-.59-.52 0-1.04.2-1.43.59L10.3 9.45l-7.72 7.72c-.78.78-.78 2.05 0 2.83L4 21.41c.39.39.9.59 1.41.59.51 0 1.02-.2 1.41-.59l7.78-7.78 2.81-2.81c.8-.78.8-2.07 0-2.86zM5.41 20L4 18.59l7.72-7.72 1.47 1.35L5.41 20z\"/>\n",
       "  </svg>\n",
       "      </button>\n",
       "      \n",
       "  <style>\n",
       "    .colab-df-container {\n",
       "      display:flex;\n",
       "      flex-wrap:wrap;\n",
       "      gap: 12px;\n",
       "    }\n",
       "\n",
       "    .colab-df-convert {\n",
       "      background-color: #E8F0FE;\n",
       "      border: none;\n",
       "      border-radius: 50%;\n",
       "      cursor: pointer;\n",
       "      display: none;\n",
       "      fill: #1967D2;\n",
       "      height: 32px;\n",
       "      padding: 0 0 0 0;\n",
       "      width: 32px;\n",
       "    }\n",
       "\n",
       "    .colab-df-convert:hover {\n",
       "      background-color: #E2EBFA;\n",
       "      box-shadow: 0px 1px 2px rgba(60, 64, 67, 0.3), 0px 1px 3px 1px rgba(60, 64, 67, 0.15);\n",
       "      fill: #174EA6;\n",
       "    }\n",
       "\n",
       "    [theme=dark] .colab-df-convert {\n",
       "      background-color: #3B4455;\n",
       "      fill: #D2E3FC;\n",
       "    }\n",
       "\n",
       "    [theme=dark] .colab-df-convert:hover {\n",
       "      background-color: #434B5C;\n",
       "      box-shadow: 0px 1px 3px 1px rgba(0, 0, 0, 0.15);\n",
       "      filter: drop-shadow(0px 1px 2px rgba(0, 0, 0, 0.3));\n",
       "      fill: #FFFFFF;\n",
       "    }\n",
       "  </style>\n",
       "\n",
       "      <script>\n",
       "        const buttonEl =\n",
       "          document.querySelector('#df-2c844851-23e8-4c05-ba51-bcbdb0f2b01f button.colab-df-convert');\n",
       "        buttonEl.style.display =\n",
       "          google.colab.kernel.accessAllowed ? 'block' : 'none';\n",
       "\n",
       "        async function convertToInteractive(key) {\n",
       "          const element = document.querySelector('#df-2c844851-23e8-4c05-ba51-bcbdb0f2b01f');\n",
       "          const dataTable =\n",
       "            await google.colab.kernel.invokeFunction('convertToInteractive',\n",
       "                                                     [key], {});\n",
       "          if (!dataTable) return;\n",
       "\n",
       "          const docLinkHtml = 'Like what you see? Visit the ' +\n",
       "            '<a target=\"_blank\" href=https://colab.research.google.com/notebooks/data_table.ipynb>data table notebook</a>'\n",
       "            + ' to learn more about interactive tables.';\n",
       "          element.innerHTML = '';\n",
       "          dataTable['output_type'] = 'display_data';\n",
       "          await google.colab.output.renderOutput(dataTable, element);\n",
       "          const docLink = document.createElement('div');\n",
       "          docLink.innerHTML = docLinkHtml;\n",
       "          element.appendChild(docLink);\n",
       "        }\n",
       "      </script>\n",
       "    </div>\n",
       "  </div>\n",
       "  "
      ],
      "text/plain": [
       "     youtube  facebook  newspaper  sales\n",
       "0     276.12     45.36      83.04  26.52\n",
       "1      53.40     47.16      54.12  12.48\n",
       "2      20.64     55.08      83.16  11.16\n",
       "3     181.80     49.56      70.20  22.20\n",
       "4     216.96     12.96      70.08  15.48\n",
       "..       ...       ...        ...    ...\n",
       "195    45.84      4.44      16.56   9.12\n",
       "196   113.04      5.88       9.72  11.64\n",
       "197   212.40     11.16       7.68  15.36\n",
       "198   340.32     50.40      79.44  30.60\n",
       "199   278.52     10.32      10.44  16.08\n",
       "\n",
       "[200 rows x 4 columns]"
      ]
     },
     "execution_count": 2,
     "metadata": {},
     "output_type": "execute_result"
    }
   ],
   "source": [
    "#! pip install numpy\n",
    "import numpy as np\n",
    "import pandas as pd\n",
    "\n",
    "data_interactions_1=pd.read_csv(\"/content/drive/Shareddrives/ML&DD/ML Group A1/data_interactions_1.csv\")\n",
    "data_interactions_1"
   ]
  },
  {
   "cell_type": "code",
   "execution_count": null,
   "id": "7b9222ea",
   "metadata": {
    "id": "7b9222ea"
   },
   "outputs": [],
   "source": [
    "x = data_interactions_1[['sales']]\n",
    "y = data_interactions_1[['youtube','facebook','newspaper']]"
   ]
  },
  {
   "cell_type": "code",
   "execution_count": null,
   "id": "a2e54657",
   "metadata": {
    "colab": {
     "base_uri": "https://localhost:8080/"
    },
    "id": "a2e54657",
    "outputId": "0b028e7d-e845-4eac-d22a-57a1a1483f7a"
   },
   "outputs": [
    {
     "name": "stderr",
     "output_type": "stream",
     "text": [
      "/usr/local/lib/python3.7/dist-packages/statsmodels/tools/_testing.py:19: FutureWarning: pandas.util.testing is deprecated. Use the functions in the public API at pandas.testing instead.\n",
      "  import pandas.util.testing as tm\n"
     ]
    }
   ],
   "source": [
    "##linear regression models\n",
    "#! pip install statsmodels\n",
    "import statsmodels.api as sm\n",
    "import statsmodels.formula.api as smf"
   ]
  },
  {
   "cell_type": "code",
   "execution_count": null,
   "id": "9056d4fd",
   "metadata": {
    "colab": {
     "base_uri": "https://localhost:8080/"
    },
    "id": "9056d4fd",
    "outputId": "5c9d28c0-e1d7-4658-cf07-057dc7ef8d28"
   },
   "outputs": [
    {
     "name": "stdout",
     "output_type": "stream",
     "text": [
      "                            OLS Regression Results                            \n",
      "==============================================================================\n",
      "Dep. Variable:                  sales   R-squared:                       0.897\n",
      "Model:                            OLS   Adj. R-squared:                  0.896\n",
      "Method:                 Least Squares   F-statistic:                     570.3\n",
      "Date:                Sat, 22 Jan 2022   Prob (F-statistic):           1.58e-96\n",
      "Time:                        07:23:18   Log-Likelihood:                -422.65\n",
      "No. Observations:                 200   AIC:                             853.3\n",
      "Df Residuals:                     196   BIC:                             866.5\n",
      "Df Model:                           3                                         \n",
      "Covariance Type:            nonrobust                                         \n",
      "==============================================================================\n",
      "                 coef    std err          t      P>|t|      [0.025      0.975]\n",
      "------------------------------------------------------------------------------\n",
      "Intercept      3.5267      0.374      9.422      0.000       2.789       4.265\n",
      "youtube        0.0458      0.001     32.809      0.000       0.043       0.049\n",
      "facebook       0.1885      0.009     21.893      0.000       0.172       0.206\n",
      "newspaper     -0.0010      0.006     -0.177      0.860      -0.013       0.011\n",
      "==============================================================================\n",
      "Omnibus:                       60.414   Durbin-Watson:                   2.084\n",
      "Prob(Omnibus):                  0.000   Jarque-Bera (JB):              151.241\n",
      "Skew:                          -1.327   Prob(JB):                     1.44e-33\n",
      "Kurtosis:                       6.332   Cond. No.                         545.\n",
      "==============================================================================\n",
      "\n",
      "Warnings:\n",
      "[1] Standard Errors assume that the covariance matrix of the errors is correctly specified.\n"
     ]
    }
   ],
   "source": [
    "### Linear regression without interaction \n",
    "results1 = smf.ols('sales ~ youtube+facebook+newspaper', data=data_interactions_1).fit()\n",
    "print(results1.summary())"
   ]
  },
  {
   "cell_type": "code",
   "execution_count": null,
   "id": "9da0738c",
   "metadata": {
    "colab": {
     "base_uri": "https://localhost:8080/"
    },
    "id": "9da0738c",
    "outputId": "c01c75bf-d6c5-4b4f-8428-ff3c70854d6f"
   },
   "outputs": [
    {
     "name": "stdout",
     "output_type": "stream",
     "text": [
      "                            OLS Regression Results                            \n",
      "==============================================================================\n",
      "Dep. Variable:                  sales   R-squared:                       0.969\n",
      "Model:                            OLS   Adj. R-squared:                  0.968\n",
      "Method:                 Least Squares   F-statistic:                     993.3\n",
      "Date:                Sat, 22 Jan 2022   Prob (F-statistic):          3.68e-142\n",
      "Time:                        07:23:21   Log-Likelihood:                -303.96\n",
      "No. Observations:                 200   AIC:                             621.9\n",
      "Df Residuals:                     193   BIC:                             645.0\n",
      "Df Model:                           6                                         \n",
      "Covariance Type:            nonrobust                                         \n",
      "======================================================================================\n",
      "                         coef    std err          t      P>|t|      [0.025      0.975]\n",
      "--------------------------------------------------------------------------------------\n",
      "Intercept              7.7522      0.381     20.342      0.000       7.001       8.504\n",
      "youtube                0.0203      0.002     12.633      0.000       0.017       0.024\n",
      "facebook               0.0229      0.011      2.009      0.046       0.000       0.045\n",
      "newspaper              0.0170      0.010      1.691      0.092      -0.003       0.037\n",
      "youtube:facebook       0.0009   4.76e-05     19.930      0.000       0.001       0.001\n",
      "youtube:newspaper  -6.643e-05   2.98e-05     -2.227      0.027      -0.000    -7.6e-06\n",
      "facebook:newspaper -9.133e-05      0.000     -0.464      0.643      -0.000       0.000\n",
      "==============================================================================\n",
      "Omnibus:                      111.385   Durbin-Watson:                   2.222\n",
      "Prob(Omnibus):                  0.000   Jarque-Bera (JB):              767.483\n",
      "Skew:                          -2.046   Prob(JB):                    2.20e-167\n",
      "Kurtosis:                      11.681   Cond. No.                     5.47e+04\n",
      "==============================================================================\n",
      "\n",
      "Warnings:\n",
      "[1] Standard Errors assume that the covariance matrix of the errors is correctly specified.\n",
      "[2] The condition number is large, 5.47e+04. This might indicate that there are\n",
      "strong multicollinearity or other numerical problems.\n"
     ]
    }
   ],
   "source": [
    "##linear regression models + 2 way interactions \n",
    "results2 = smf.ols('sales ~ youtube+facebook+newspaper+youtube*facebook+youtube*newspaper+facebook*newspaper', data=data_interactions_1).fit()\n",
    "print(results2.summary())"
   ]
  },
  {
   "cell_type": "code",
   "execution_count": null,
   "id": "rit8QsjnYGkT",
   "metadata": {
    "colab": {
     "base_uri": "https://localhost:8080/"
    },
    "id": "rit8QsjnYGkT",
    "outputId": "e17efecb-bb8e-4079-d30d-80149ab5b1bf"
   },
   "outputs": [
    {
     "name": "stdout",
     "output_type": "stream",
     "text": [
      "                            OLS Regression Results                            \n",
      "==============================================================================\n",
      "Dep. Variable:                  sales   R-squared:                       0.969\n",
      "Model:                            OLS   Adj. R-squared:                  0.968\n",
      "Method:                 Least Squares   F-statistic:                     847.3\n",
      "Date:                Sat, 22 Jan 2022   Prob (F-statistic):          1.16e-140\n",
      "Time:                        07:23:24   Log-Likelihood:                -303.92\n",
      "No. Observations:                 200   AIC:                             623.8\n",
      "Df Residuals:                     192   BIC:                             650.2\n",
      "Df Model:                           7                                         \n",
      "Covariance Type:            nonrobust                                         \n",
      "==============================================================================================\n",
      "                                 coef    std err          t      P>|t|      [0.025      0.975]\n",
      "----------------------------------------------------------------------------------------------\n",
      "Intercept                      7.8671      0.559     14.083      0.000       6.765       8.969\n",
      "youtube                        0.0197      0.003      7.250      0.000       0.014       0.025\n",
      "facebook                       0.0196      0.016      1.197      0.233      -0.013       0.052\n",
      "newspaper                      0.0131      0.017      0.761      0.447      -0.021       0.047\n",
      "youtube:facebook               0.0010   8.13e-05     11.909      0.000       0.001       0.001\n",
      "youtube:newspaper          -4.621e-05   7.77e-05     -0.595      0.553      -0.000       0.000\n",
      "facebook:newspaper          7.552e-06      0.000      0.019      0.985      -0.001       0.001\n",
      "youtube:facebook:newspaper -5.285e-07   1.88e-06     -0.282      0.778   -4.23e-06    3.17e-06\n",
      "==============================================================================\n",
      "Omnibus:                      110.676   Durbin-Watson:                   2.224\n",
      "Prob(Omnibus):                  0.000   Jarque-Bera (JB):              751.534\n",
      "Skew:                          -2.035   Prob(JB):                    6.40e-164\n",
      "Kurtosis:                      11.580   Cond. No.                     2.69e+06\n",
      "==============================================================================\n",
      "\n",
      "Warnings:\n",
      "[1] Standard Errors assume that the covariance matrix of the errors is correctly specified.\n",
      "[2] The condition number is large, 2.69e+06. This might indicate that there are\n",
      "strong multicollinearity or other numerical problems.\n"
     ]
    }
   ],
   "source": [
    "##linear regression models with 3 way interactions \n",
    "results3 = smf.ols('sales ~ youtube+facebook+newspaper+youtube*facebook*newspaper', data=data_interactions_1).fit()\n",
    "print(results3.summary())"
   ]
  },
  {
   "cell_type": "markdown",
   "id": "AWMbGujzaXGF",
   "metadata": {
    "id": "AWMbGujzaXGF"
   },
   "source": [
    "In the model without any interaction, we discover that youtube and facebook are significant at any significance level even though newspaper is insignificant. \n",
    "\n",
    "When we consider the interaction, the R-squared of the model improved from 0.897 to 0.969. As the R-squared is the proportion of variation in Y explained by the model, it means that 96.9% of the variation in Sales is explained by the model. The remaining 3.1% is unexplained. Also, in this case, adj R-squared is increased from 0.896 to 0.968. Based on higher R-squared and adj R-squared values, the regression model with interaction terms has a better fit.\n",
    "\n",
    "The improvement shows that there exists interaction and the p-value of the interaction between youtube and facebook is less than 0.01 which is significant at the 99% significance level. There is siginificant interaction between youtube and newspaper. There is no interaction between facebook and newspaper since the p-value is insignificant.\n",
    "\n",
    "For three ways interaction model, the p-value of the interaction term (youtube, facebook, and newspaper) is 0.778. Since it is bigger than alpha 0.05, it is insignificant. It means there is no combined effect of three channels on sales. But this model has the same R-squared and adj R-squared when comparing to two ways interaction model. \n",
    "\n",
    "Significant continuous interaction means that the slope of one continuous variable on the response variable changes as the values on a second continuous change. Therefore, we can conclude that including the interaction terms can improve the model performance. "
   ]
  },
  {
   "cell_type": "markdown",
   "id": "4d8a6e36",
   "metadata": {
    "id": "4d8a6e36"
   },
   "source": [
    "Use the data_interactions_2.csv for this part of the assignment. Clean the data as required for the following with any method of your choice: Missing values, Conversion to required format for the model, Eliminating features if necessary. Create linear regression models with and without interactions between the features to regress the ‘mpg’. Explain the differences (if any) in the models and state possible reasons for the same."
   ]
  },
  {
   "cell_type": "code",
   "execution_count": null,
   "id": "bdb282da",
   "metadata": {
    "colab": {
     "base_uri": "https://localhost:8080/",
     "height": 423
    },
    "id": "bdb282da",
    "outputId": "390e5a6d-1f37-4b18-b68c-295050bc670d",
    "scrolled": true
   },
   "outputs": [
    {
     "data": {
      "text/html": [
       "\n",
       "  <div id=\"df-1a49839d-531a-4d10-8c83-7de1e2d0a23c\">\n",
       "    <div class=\"colab-df-container\">\n",
       "      <div>\n",
       "<style scoped>\n",
       "    .dataframe tbody tr th:only-of-type {\n",
       "        vertical-align: middle;\n",
       "    }\n",
       "\n",
       "    .dataframe tbody tr th {\n",
       "        vertical-align: top;\n",
       "    }\n",
       "\n",
       "    .dataframe thead th {\n",
       "        text-align: right;\n",
       "    }\n",
       "</style>\n",
       "<table border=\"1\" class=\"dataframe\">\n",
       "  <thead>\n",
       "    <tr style=\"text-align: right;\">\n",
       "      <th></th>\n",
       "      <th>mpg</th>\n",
       "      <th>cylinders</th>\n",
       "      <th>displacement</th>\n",
       "      <th>horsepower</th>\n",
       "      <th>weight</th>\n",
       "      <th>acceleration</th>\n",
       "      <th>model year</th>\n",
       "      <th>origin</th>\n",
       "      <th>car name</th>\n",
       "    </tr>\n",
       "  </thead>\n",
       "  <tbody>\n",
       "    <tr>\n",
       "      <th>0</th>\n",
       "      <td>18.0</td>\n",
       "      <td>8</td>\n",
       "      <td>307.0</td>\n",
       "      <td>130</td>\n",
       "      <td>3504</td>\n",
       "      <td>12.0</td>\n",
       "      <td>70</td>\n",
       "      <td>1</td>\n",
       "      <td>chevrolet chevelle malibu</td>\n",
       "    </tr>\n",
       "    <tr>\n",
       "      <th>1</th>\n",
       "      <td>15.0</td>\n",
       "      <td>8</td>\n",
       "      <td>350.0</td>\n",
       "      <td>165</td>\n",
       "      <td>3693</td>\n",
       "      <td>11.5</td>\n",
       "      <td>70</td>\n",
       "      <td>1</td>\n",
       "      <td>buick skylark 320</td>\n",
       "    </tr>\n",
       "    <tr>\n",
       "      <th>2</th>\n",
       "      <td>18.0</td>\n",
       "      <td>8</td>\n",
       "      <td>318.0</td>\n",
       "      <td>150</td>\n",
       "      <td>3436</td>\n",
       "      <td>11.0</td>\n",
       "      <td>70</td>\n",
       "      <td>1</td>\n",
       "      <td>plymouth satellite</td>\n",
       "    </tr>\n",
       "    <tr>\n",
       "      <th>3</th>\n",
       "      <td>16.0</td>\n",
       "      <td>8</td>\n",
       "      <td>304.0</td>\n",
       "      <td>150</td>\n",
       "      <td>3433</td>\n",
       "      <td>12.0</td>\n",
       "      <td>70</td>\n",
       "      <td>1</td>\n",
       "      <td>amc rebel sst</td>\n",
       "    </tr>\n",
       "    <tr>\n",
       "      <th>4</th>\n",
       "      <td>17.0</td>\n",
       "      <td>8</td>\n",
       "      <td>302.0</td>\n",
       "      <td>140</td>\n",
       "      <td>3449</td>\n",
       "      <td>10.5</td>\n",
       "      <td>70</td>\n",
       "      <td>1</td>\n",
       "      <td>ford torino</td>\n",
       "    </tr>\n",
       "    <tr>\n",
       "      <th>...</th>\n",
       "      <td>...</td>\n",
       "      <td>...</td>\n",
       "      <td>...</td>\n",
       "      <td>...</td>\n",
       "      <td>...</td>\n",
       "      <td>...</td>\n",
       "      <td>...</td>\n",
       "      <td>...</td>\n",
       "      <td>...</td>\n",
       "    </tr>\n",
       "    <tr>\n",
       "      <th>393</th>\n",
       "      <td>27.0</td>\n",
       "      <td>4</td>\n",
       "      <td>140.0</td>\n",
       "      <td>86</td>\n",
       "      <td>2790</td>\n",
       "      <td>15.6</td>\n",
       "      <td>82</td>\n",
       "      <td>1</td>\n",
       "      <td>ford mustang gl</td>\n",
       "    </tr>\n",
       "    <tr>\n",
       "      <th>394</th>\n",
       "      <td>44.0</td>\n",
       "      <td>4</td>\n",
       "      <td>97.0</td>\n",
       "      <td>52</td>\n",
       "      <td>2130</td>\n",
       "      <td>24.6</td>\n",
       "      <td>82</td>\n",
       "      <td>2</td>\n",
       "      <td>vw pickup</td>\n",
       "    </tr>\n",
       "    <tr>\n",
       "      <th>395</th>\n",
       "      <td>32.0</td>\n",
       "      <td>4</td>\n",
       "      <td>135.0</td>\n",
       "      <td>84</td>\n",
       "      <td>2295</td>\n",
       "      <td>11.6</td>\n",
       "      <td>82</td>\n",
       "      <td>1</td>\n",
       "      <td>dodge rampage</td>\n",
       "    </tr>\n",
       "    <tr>\n",
       "      <th>396</th>\n",
       "      <td>28.0</td>\n",
       "      <td>4</td>\n",
       "      <td>120.0</td>\n",
       "      <td>79</td>\n",
       "      <td>2625</td>\n",
       "      <td>18.6</td>\n",
       "      <td>82</td>\n",
       "      <td>1</td>\n",
       "      <td>ford ranger</td>\n",
       "    </tr>\n",
       "    <tr>\n",
       "      <th>397</th>\n",
       "      <td>31.0</td>\n",
       "      <td>4</td>\n",
       "      <td>119.0</td>\n",
       "      <td>82</td>\n",
       "      <td>2720</td>\n",
       "      <td>19.4</td>\n",
       "      <td>82</td>\n",
       "      <td>1</td>\n",
       "      <td>chevy s-10</td>\n",
       "    </tr>\n",
       "  </tbody>\n",
       "</table>\n",
       "<p>398 rows × 9 columns</p>\n",
       "</div>\n",
       "      <button class=\"colab-df-convert\" onclick=\"convertToInteractive('df-1a49839d-531a-4d10-8c83-7de1e2d0a23c')\"\n",
       "              title=\"Convert this dataframe to an interactive table.\"\n",
       "              style=\"display:none;\">\n",
       "        \n",
       "  <svg xmlns=\"http://www.w3.org/2000/svg\" height=\"24px\"viewBox=\"0 0 24 24\"\n",
       "       width=\"24px\">\n",
       "    <path d=\"M0 0h24v24H0V0z\" fill=\"none\"/>\n",
       "    <path d=\"M18.56 5.44l.94 2.06.94-2.06 2.06-.94-2.06-.94-.94-2.06-.94 2.06-2.06.94zm-11 1L8.5 8.5l.94-2.06 2.06-.94-2.06-.94L8.5 2.5l-.94 2.06-2.06.94zm10 10l.94 2.06.94-2.06 2.06-.94-2.06-.94-.94-2.06-.94 2.06-2.06.94z\"/><path d=\"M17.41 7.96l-1.37-1.37c-.4-.4-.92-.59-1.43-.59-.52 0-1.04.2-1.43.59L10.3 9.45l-7.72 7.72c-.78.78-.78 2.05 0 2.83L4 21.41c.39.39.9.59 1.41.59.51 0 1.02-.2 1.41-.59l7.78-7.78 2.81-2.81c.8-.78.8-2.07 0-2.86zM5.41 20L4 18.59l7.72-7.72 1.47 1.35L5.41 20z\"/>\n",
       "  </svg>\n",
       "      </button>\n",
       "      \n",
       "  <style>\n",
       "    .colab-df-container {\n",
       "      display:flex;\n",
       "      flex-wrap:wrap;\n",
       "      gap: 12px;\n",
       "    }\n",
       "\n",
       "    .colab-df-convert {\n",
       "      background-color: #E8F0FE;\n",
       "      border: none;\n",
       "      border-radius: 50%;\n",
       "      cursor: pointer;\n",
       "      display: none;\n",
       "      fill: #1967D2;\n",
       "      height: 32px;\n",
       "      padding: 0 0 0 0;\n",
       "      width: 32px;\n",
       "    }\n",
       "\n",
       "    .colab-df-convert:hover {\n",
       "      background-color: #E2EBFA;\n",
       "      box-shadow: 0px 1px 2px rgba(60, 64, 67, 0.3), 0px 1px 3px 1px rgba(60, 64, 67, 0.15);\n",
       "      fill: #174EA6;\n",
       "    }\n",
       "\n",
       "    [theme=dark] .colab-df-convert {\n",
       "      background-color: #3B4455;\n",
       "      fill: #D2E3FC;\n",
       "    }\n",
       "\n",
       "    [theme=dark] .colab-df-convert:hover {\n",
       "      background-color: #434B5C;\n",
       "      box-shadow: 0px 1px 3px 1px rgba(0, 0, 0, 0.15);\n",
       "      filter: drop-shadow(0px 1px 2px rgba(0, 0, 0, 0.3));\n",
       "      fill: #FFFFFF;\n",
       "    }\n",
       "  </style>\n",
       "\n",
       "      <script>\n",
       "        const buttonEl =\n",
       "          document.querySelector('#df-1a49839d-531a-4d10-8c83-7de1e2d0a23c button.colab-df-convert');\n",
       "        buttonEl.style.display =\n",
       "          google.colab.kernel.accessAllowed ? 'block' : 'none';\n",
       "\n",
       "        async function convertToInteractive(key) {\n",
       "          const element = document.querySelector('#df-1a49839d-531a-4d10-8c83-7de1e2d0a23c');\n",
       "          const dataTable =\n",
       "            await google.colab.kernel.invokeFunction('convertToInteractive',\n",
       "                                                     [key], {});\n",
       "          if (!dataTable) return;\n",
       "\n",
       "          const docLinkHtml = 'Like what you see? Visit the ' +\n",
       "            '<a target=\"_blank\" href=https://colab.research.google.com/notebooks/data_table.ipynb>data table notebook</a>'\n",
       "            + ' to learn more about interactive tables.';\n",
       "          element.innerHTML = '';\n",
       "          dataTable['output_type'] = 'display_data';\n",
       "          await google.colab.output.renderOutput(dataTable, element);\n",
       "          const docLink = document.createElement('div');\n",
       "          docLink.innerHTML = docLinkHtml;\n",
       "          element.appendChild(docLink);\n",
       "        }\n",
       "      </script>\n",
       "    </div>\n",
       "  </div>\n",
       "  "
      ],
      "text/plain": [
       "      mpg  cylinders  ...  origin                   car name\n",
       "0    18.0          8  ...       1  chevrolet chevelle malibu\n",
       "1    15.0          8  ...       1          buick skylark 320\n",
       "2    18.0          8  ...       1         plymouth satellite\n",
       "3    16.0          8  ...       1              amc rebel sst\n",
       "4    17.0          8  ...       1                ford torino\n",
       "..    ...        ...  ...     ...                        ...\n",
       "393  27.0          4  ...       1            ford mustang gl\n",
       "394  44.0          4  ...       2                  vw pickup\n",
       "395  32.0          4  ...       1              dodge rampage\n",
       "396  28.0          4  ...       1                ford ranger\n",
       "397  31.0          4  ...       1                 chevy s-10\n",
       "\n",
       "[398 rows x 9 columns]"
      ]
     },
     "execution_count": 8,
     "metadata": {},
     "output_type": "execute_result"
    }
   ],
   "source": [
    "data_interactions_2=pd.read_csv(\"/content/drive/Shareddrives/ML&DD/ML Group A1/data_interactions_2.csv\")\n",
    "data_interactions_2"
   ]
  },
  {
   "cell_type": "code",
   "execution_count": null,
   "id": "5df2143b",
   "metadata": {
    "colab": {
     "base_uri": "https://localhost:8080/"
    },
    "id": "5df2143b",
    "outputId": "77be5924-a15a-4023-daf5-ccc8f464b3ad"
   },
   "outputs": [
    {
     "name": "stdout",
     "output_type": "stream",
     "text": [
      "<class 'pandas.core.frame.DataFrame'>\n",
      "Int64Index: 392 entries, 0 to 397\n",
      "Data columns (total 9 columns):\n",
      " #   Column        Non-Null Count  Dtype  \n",
      "---  ------        --------------  -----  \n",
      " 0   mpg           392 non-null    float64\n",
      " 1   cylinders     392 non-null    int64  \n",
      " 2   displacement  392 non-null    float64\n",
      " 3   horsepower    392 non-null    int64  \n",
      " 4   weight        392 non-null    int64  \n",
      " 5   acceleration  392 non-null    float64\n",
      " 6   model year    392 non-null    int64  \n",
      " 7   origin        392 non-null    int64  \n",
      " 8   car name      392 non-null    object \n",
      "dtypes: float64(3), int64(5), object(1)\n",
      "memory usage: 30.6+ KB\n"
     ]
    },
    {
     "name": "stderr",
     "output_type": "stream",
     "text": [
      "/usr/local/lib/python3.7/dist-packages/ipykernel_launcher.py:10: SettingWithCopyWarning: \n",
      "A value is trying to be set on a copy of a slice from a DataFrame.\n",
      "Try using .loc[row_indexer,col_indexer] = value instead\n",
      "\n",
      "See the caveats in the documentation: https://pandas.pydata.org/pandas-docs/stable/user_guide/indexing.html#returning-a-view-versus-a-copy\n",
      "  # Remove the CWD from sys.path while we load stuff.\n"
     ]
    }
   ],
   "source": [
    "##Missing value\n",
    "### The column horsepower have missing value in the form of \"?\"\n",
    "data_interactions_2.replace(\"?\",np.NaN, inplace=True)\n",
    "data_interactions_2.isnull().sum()\n",
    "### The sum of missing value shows there is 6 missing value in the data\n",
    "### Since we have 397 observations, it's ok to delete the rows with missing value\n",
    "\n",
    "data_interactions_2_2=data_interactions_2.dropna()\n",
    "data_interactions_2_2\n",
    "data_interactions_2_2['horsepower']=pd.to_numeric(data_interactions_2_2[\"horsepower\"])\n",
    "data_interactions_2_2.info()"
   ]
  },
  {
   "cell_type": "code",
   "execution_count": null,
   "id": "1384fc76",
   "metadata": {
    "id": "1384fc76"
   },
   "outputs": [],
   "source": [
    "###Conversion to required format for the model\n",
    "### Split \"Car name\" into the brand name\n",
    "carname=data_interactions_2_2[\"car name\"].str.split(\" \",expand=True)\n",
    "carbrand= pd.DataFrame(carname[0])\n",
    "carbrand.columns = ['carbrand']\n",
    "data_interactions_2_3 = pd.concat([data_interactions_2_2,carbrand],axis=1)\n",
    "### Convert \"car name\" in to factor variable\n",
    "carbrand = pd.get_dummies(data_interactions_2_3['carbrand'])\n",
    "a = data_interactions_2_3['carbrand'].value_counts()\n",
    "data_interactions_2_3=data_interactions_2_3.rename(columns={'model year':'model_year'})"
   ]
  },
  {
   "cell_type": "code",
   "execution_count": null,
   "id": "UhW4lc03ErGA",
   "metadata": {
    "id": "UhW4lc03ErGA"
   },
   "outputs": [],
   "source": [
    "### Aggregate the car brand name in to the same category\n",
    "data_interactions_2_3.carbrand = np.where(data_interactions_2_3.carbrand=='vw', 'volkswagen', data_interactions_2_3.carbrand)\n",
    "data_interactions_2_3.carbrand = np.where(data_interactions_2_3.carbrand=='vokswagen', 'volkswagen', data_interactions_2_3.carbrand)\n",
    "data_interactions_2_3.carbrand = np.where(data_interactions_2_3.carbrand=='chevy', 'chevrolet', data_interactions_2_3.carbrand)\n",
    "data_interactions_2_3.carbrand = np.where(data_interactions_2_3.carbrand=='chevroelt', 'chevrolet', data_interactions_2_3.carbrand)\n",
    "data_interactions_2_3.carbrand = np.where(data_interactions_2_3.carbrand=='toyouta', 'toyota', data_interactions_2_3.carbrand)\n",
    "data_interactions_2_3.carbrand = np.where(data_interactions_2_3.carbrand=='maxda', 'mazda', data_interactions_2_3.carbrand)"
   ]
  },
  {
   "cell_type": "code",
   "execution_count": null,
   "id": "ZS7wVRSDFpK5",
   "metadata": {
    "colab": {
     "base_uri": "https://localhost:8080/"
    },
    "id": "ZS7wVRSDFpK5",
    "outputId": "e4dfd21e-f252-4985-ab50-b0364e77d4cd"
   },
   "outputs": [
    {
     "data": {
      "text/plain": [
       "ford             48\n",
       "chevrolet        47\n",
       "plymouth         31\n",
       "dodge            28\n",
       "amc              27\n",
       "toyota           26\n",
       "datsun           23\n",
       "volkswagen       22\n",
       "buick            17\n",
       "pontiac          16\n",
       "honda            13\n",
       "mazda            12\n",
       "mercury          11\n",
       "oldsmobile       10\n",
       "peugeot           8\n",
       "fiat              8\n",
       "audi              7\n",
       "chrysler          6\n",
       "volvo             6\n",
       "opel              4\n",
       "saab              4\n",
       "subaru            4\n",
       "renault           3\n",
       "bmw               2\n",
       "cadillac          2\n",
       "mercedes-benz     2\n",
       "nissan            1\n",
       "hi                1\n",
       "capri             1\n",
       "mercedes          1\n",
       "triumph           1\n",
       "Name: carbrand, dtype: int64"
      ]
     },
     "execution_count": 12,
     "metadata": {},
     "output_type": "execute_result"
    }
   ],
   "source": [
    "data_interactions_2_3.carbrand.value_counts()"
   ]
  },
  {
   "cell_type": "code",
   "execution_count": null,
   "id": "e41e29b1",
   "metadata": {
    "colab": {
     "base_uri": "https://localhost:8080/",
     "height": 423
    },
    "id": "e41e29b1",
    "outputId": "966aa24b-0f75-482d-e795-d0f766532608"
   },
   "outputs": [
    {
     "data": {
      "text/html": [
       "\n",
       "  <div id=\"df-5c1b1af9-f6e9-4e2d-aad5-5e02bf1e0be1\">\n",
       "    <div class=\"colab-df-container\">\n",
       "      <div>\n",
       "<style scoped>\n",
       "    .dataframe tbody tr th:only-of-type {\n",
       "        vertical-align: middle;\n",
       "    }\n",
       "\n",
       "    .dataframe tbody tr th {\n",
       "        vertical-align: top;\n",
       "    }\n",
       "\n",
       "    .dataframe thead th {\n",
       "        text-align: right;\n",
       "    }\n",
       "</style>\n",
       "<table border=\"1\" class=\"dataframe\">\n",
       "  <thead>\n",
       "    <tr style=\"text-align: right;\">\n",
       "      <th></th>\n",
       "      <th>mpg</th>\n",
       "      <th>cylinders</th>\n",
       "      <th>displacement</th>\n",
       "      <th>horsepower</th>\n",
       "      <th>weight</th>\n",
       "      <th>acceleration</th>\n",
       "      <th>model_year</th>\n",
       "      <th>origin</th>\n",
       "      <th>car name</th>\n",
       "      <th>carbrand</th>\n",
       "    </tr>\n",
       "  </thead>\n",
       "  <tbody>\n",
       "    <tr>\n",
       "      <th>0</th>\n",
       "      <td>18.0</td>\n",
       "      <td>8</td>\n",
       "      <td>307.0</td>\n",
       "      <td>130</td>\n",
       "      <td>3504</td>\n",
       "      <td>12.0</td>\n",
       "      <td>70</td>\n",
       "      <td>1</td>\n",
       "      <td>chevrolet chevelle malibu</td>\n",
       "      <td>chevrolet</td>\n",
       "    </tr>\n",
       "    <tr>\n",
       "      <th>1</th>\n",
       "      <td>15.0</td>\n",
       "      <td>8</td>\n",
       "      <td>350.0</td>\n",
       "      <td>165</td>\n",
       "      <td>3693</td>\n",
       "      <td>11.5</td>\n",
       "      <td>70</td>\n",
       "      <td>1</td>\n",
       "      <td>buick skylark 320</td>\n",
       "      <td>buick</td>\n",
       "    </tr>\n",
       "    <tr>\n",
       "      <th>2</th>\n",
       "      <td>18.0</td>\n",
       "      <td>8</td>\n",
       "      <td>318.0</td>\n",
       "      <td>150</td>\n",
       "      <td>3436</td>\n",
       "      <td>11.0</td>\n",
       "      <td>70</td>\n",
       "      <td>1</td>\n",
       "      <td>plymouth satellite</td>\n",
       "      <td>plymouth</td>\n",
       "    </tr>\n",
       "    <tr>\n",
       "      <th>3</th>\n",
       "      <td>16.0</td>\n",
       "      <td>8</td>\n",
       "      <td>304.0</td>\n",
       "      <td>150</td>\n",
       "      <td>3433</td>\n",
       "      <td>12.0</td>\n",
       "      <td>70</td>\n",
       "      <td>1</td>\n",
       "      <td>amc rebel sst</td>\n",
       "      <td>amc</td>\n",
       "    </tr>\n",
       "    <tr>\n",
       "      <th>4</th>\n",
       "      <td>17.0</td>\n",
       "      <td>8</td>\n",
       "      <td>302.0</td>\n",
       "      <td>140</td>\n",
       "      <td>3449</td>\n",
       "      <td>10.5</td>\n",
       "      <td>70</td>\n",
       "      <td>1</td>\n",
       "      <td>ford torino</td>\n",
       "      <td>ford</td>\n",
       "    </tr>\n",
       "    <tr>\n",
       "      <th>...</th>\n",
       "      <td>...</td>\n",
       "      <td>...</td>\n",
       "      <td>...</td>\n",
       "      <td>...</td>\n",
       "      <td>...</td>\n",
       "      <td>...</td>\n",
       "      <td>...</td>\n",
       "      <td>...</td>\n",
       "      <td>...</td>\n",
       "      <td>...</td>\n",
       "    </tr>\n",
       "    <tr>\n",
       "      <th>393</th>\n",
       "      <td>27.0</td>\n",
       "      <td>4</td>\n",
       "      <td>140.0</td>\n",
       "      <td>86</td>\n",
       "      <td>2790</td>\n",
       "      <td>15.6</td>\n",
       "      <td>82</td>\n",
       "      <td>1</td>\n",
       "      <td>ford mustang gl</td>\n",
       "      <td>ford</td>\n",
       "    </tr>\n",
       "    <tr>\n",
       "      <th>394</th>\n",
       "      <td>44.0</td>\n",
       "      <td>4</td>\n",
       "      <td>97.0</td>\n",
       "      <td>52</td>\n",
       "      <td>2130</td>\n",
       "      <td>24.6</td>\n",
       "      <td>82</td>\n",
       "      <td>2</td>\n",
       "      <td>vw pickup</td>\n",
       "      <td>volkswagen</td>\n",
       "    </tr>\n",
       "    <tr>\n",
       "      <th>395</th>\n",
       "      <td>32.0</td>\n",
       "      <td>4</td>\n",
       "      <td>135.0</td>\n",
       "      <td>84</td>\n",
       "      <td>2295</td>\n",
       "      <td>11.6</td>\n",
       "      <td>82</td>\n",
       "      <td>1</td>\n",
       "      <td>dodge rampage</td>\n",
       "      <td>dodge</td>\n",
       "    </tr>\n",
       "    <tr>\n",
       "      <th>396</th>\n",
       "      <td>28.0</td>\n",
       "      <td>4</td>\n",
       "      <td>120.0</td>\n",
       "      <td>79</td>\n",
       "      <td>2625</td>\n",
       "      <td>18.6</td>\n",
       "      <td>82</td>\n",
       "      <td>1</td>\n",
       "      <td>ford ranger</td>\n",
       "      <td>ford</td>\n",
       "    </tr>\n",
       "    <tr>\n",
       "      <th>397</th>\n",
       "      <td>31.0</td>\n",
       "      <td>4</td>\n",
       "      <td>119.0</td>\n",
       "      <td>82</td>\n",
       "      <td>2720</td>\n",
       "      <td>19.4</td>\n",
       "      <td>82</td>\n",
       "      <td>1</td>\n",
       "      <td>chevy s-10</td>\n",
       "      <td>chevrolet</td>\n",
       "    </tr>\n",
       "  </tbody>\n",
       "</table>\n",
       "<p>392 rows × 10 columns</p>\n",
       "</div>\n",
       "      <button class=\"colab-df-convert\" onclick=\"convertToInteractive('df-5c1b1af9-f6e9-4e2d-aad5-5e02bf1e0be1')\"\n",
       "              title=\"Convert this dataframe to an interactive table.\"\n",
       "              style=\"display:none;\">\n",
       "        \n",
       "  <svg xmlns=\"http://www.w3.org/2000/svg\" height=\"24px\"viewBox=\"0 0 24 24\"\n",
       "       width=\"24px\">\n",
       "    <path d=\"M0 0h24v24H0V0z\" fill=\"none\"/>\n",
       "    <path d=\"M18.56 5.44l.94 2.06.94-2.06 2.06-.94-2.06-.94-.94-2.06-.94 2.06-2.06.94zm-11 1L8.5 8.5l.94-2.06 2.06-.94-2.06-.94L8.5 2.5l-.94 2.06-2.06.94zm10 10l.94 2.06.94-2.06 2.06-.94-2.06-.94-.94-2.06-.94 2.06-2.06.94z\"/><path d=\"M17.41 7.96l-1.37-1.37c-.4-.4-.92-.59-1.43-.59-.52 0-1.04.2-1.43.59L10.3 9.45l-7.72 7.72c-.78.78-.78 2.05 0 2.83L4 21.41c.39.39.9.59 1.41.59.51 0 1.02-.2 1.41-.59l7.78-7.78 2.81-2.81c.8-.78.8-2.07 0-2.86zM5.41 20L4 18.59l7.72-7.72 1.47 1.35L5.41 20z\"/>\n",
       "  </svg>\n",
       "      </button>\n",
       "      \n",
       "  <style>\n",
       "    .colab-df-container {\n",
       "      display:flex;\n",
       "      flex-wrap:wrap;\n",
       "      gap: 12px;\n",
       "    }\n",
       "\n",
       "    .colab-df-convert {\n",
       "      background-color: #E8F0FE;\n",
       "      border: none;\n",
       "      border-radius: 50%;\n",
       "      cursor: pointer;\n",
       "      display: none;\n",
       "      fill: #1967D2;\n",
       "      height: 32px;\n",
       "      padding: 0 0 0 0;\n",
       "      width: 32px;\n",
       "    }\n",
       "\n",
       "    .colab-df-convert:hover {\n",
       "      background-color: #E2EBFA;\n",
       "      box-shadow: 0px 1px 2px rgba(60, 64, 67, 0.3), 0px 1px 3px 1px rgba(60, 64, 67, 0.15);\n",
       "      fill: #174EA6;\n",
       "    }\n",
       "\n",
       "    [theme=dark] .colab-df-convert {\n",
       "      background-color: #3B4455;\n",
       "      fill: #D2E3FC;\n",
       "    }\n",
       "\n",
       "    [theme=dark] .colab-df-convert:hover {\n",
       "      background-color: #434B5C;\n",
       "      box-shadow: 0px 1px 3px 1px rgba(0, 0, 0, 0.15);\n",
       "      filter: drop-shadow(0px 1px 2px rgba(0, 0, 0, 0.3));\n",
       "      fill: #FFFFFF;\n",
       "    }\n",
       "  </style>\n",
       "\n",
       "      <script>\n",
       "        const buttonEl =\n",
       "          document.querySelector('#df-5c1b1af9-f6e9-4e2d-aad5-5e02bf1e0be1 button.colab-df-convert');\n",
       "        buttonEl.style.display =\n",
       "          google.colab.kernel.accessAllowed ? 'block' : 'none';\n",
       "\n",
       "        async function convertToInteractive(key) {\n",
       "          const element = document.querySelector('#df-5c1b1af9-f6e9-4e2d-aad5-5e02bf1e0be1');\n",
       "          const dataTable =\n",
       "            await google.colab.kernel.invokeFunction('convertToInteractive',\n",
       "                                                     [key], {});\n",
       "          if (!dataTable) return;\n",
       "\n",
       "          const docLinkHtml = 'Like what you see? Visit the ' +\n",
       "            '<a target=\"_blank\" href=https://colab.research.google.com/notebooks/data_table.ipynb>data table notebook</a>'\n",
       "            + ' to learn more about interactive tables.';\n",
       "          element.innerHTML = '';\n",
       "          dataTable['output_type'] = 'display_data';\n",
       "          await google.colab.output.renderOutput(dataTable, element);\n",
       "          const docLink = document.createElement('div');\n",
       "          docLink.innerHTML = docLinkHtml;\n",
       "          element.appendChild(docLink);\n",
       "        }\n",
       "      </script>\n",
       "    </div>\n",
       "  </div>\n",
       "  "
      ],
      "text/plain": [
       "      mpg  cylinders  ...                   car name    carbrand\n",
       "0    18.0          8  ...  chevrolet chevelle malibu   chevrolet\n",
       "1    15.0          8  ...          buick skylark 320       buick\n",
       "2    18.0          8  ...         plymouth satellite    plymouth\n",
       "3    16.0          8  ...              amc rebel sst         amc\n",
       "4    17.0          8  ...                ford torino        ford\n",
       "..    ...        ...  ...                        ...         ...\n",
       "393  27.0          4  ...            ford mustang gl        ford\n",
       "394  44.0          4  ...                  vw pickup  volkswagen\n",
       "395  32.0          4  ...              dodge rampage       dodge\n",
       "396  28.0          4  ...                ford ranger        ford\n",
       "397  31.0          4  ...                 chevy s-10   chevrolet\n",
       "\n",
       "[392 rows x 10 columns]"
      ]
     },
     "execution_count": 13,
     "metadata": {},
     "output_type": "execute_result"
    }
   ],
   "source": [
    "data_interactions_2_3"
   ]
  },
  {
   "cell_type": "code",
   "execution_count": null,
   "id": "c4a3ed03",
   "metadata": {
    "colab": {
     "base_uri": "https://localhost:8080/",
     "height": 300
    },
    "id": "c4a3ed03",
    "outputId": "adc050f8-1668-4f27-c651-d7651cb49a9d"
   },
   "outputs": [
    {
     "data": {
      "text/html": [
       "\n",
       "  <div id=\"df-98466de7-cee7-4955-9a98-1f9e840d1027\">\n",
       "    <div class=\"colab-df-container\">\n",
       "      <div>\n",
       "<style scoped>\n",
       "    .dataframe tbody tr th:only-of-type {\n",
       "        vertical-align: middle;\n",
       "    }\n",
       "\n",
       "    .dataframe tbody tr th {\n",
       "        vertical-align: top;\n",
       "    }\n",
       "\n",
       "    .dataframe thead th {\n",
       "        text-align: right;\n",
       "    }\n",
       "</style>\n",
       "<table border=\"1\" class=\"dataframe\">\n",
       "  <thead>\n",
       "    <tr style=\"text-align: right;\">\n",
       "      <th></th>\n",
       "      <th>mpg</th>\n",
       "      <th>cylinders</th>\n",
       "      <th>displacement</th>\n",
       "      <th>horsepower</th>\n",
       "      <th>weight</th>\n",
       "      <th>acceleration</th>\n",
       "      <th>model_year</th>\n",
       "      <th>origin</th>\n",
       "    </tr>\n",
       "  </thead>\n",
       "  <tbody>\n",
       "    <tr>\n",
       "      <th>mpg</th>\n",
       "      <td>1.000000</td>\n",
       "      <td>-0.777618</td>\n",
       "      <td>-0.805127</td>\n",
       "      <td>-0.778427</td>\n",
       "      <td>-0.832244</td>\n",
       "      <td>0.423329</td>\n",
       "      <td>0.580541</td>\n",
       "      <td>0.565209</td>\n",
       "    </tr>\n",
       "    <tr>\n",
       "      <th>cylinders</th>\n",
       "      <td>-0.777618</td>\n",
       "      <td>1.000000</td>\n",
       "      <td>0.950823</td>\n",
       "      <td>0.842983</td>\n",
       "      <td>0.897527</td>\n",
       "      <td>-0.504683</td>\n",
       "      <td>-0.345647</td>\n",
       "      <td>-0.568932</td>\n",
       "    </tr>\n",
       "    <tr>\n",
       "      <th>displacement</th>\n",
       "      <td>-0.805127</td>\n",
       "      <td>0.950823</td>\n",
       "      <td>1.000000</td>\n",
       "      <td>0.897257</td>\n",
       "      <td>0.932994</td>\n",
       "      <td>-0.543800</td>\n",
       "      <td>-0.369855</td>\n",
       "      <td>-0.614535</td>\n",
       "    </tr>\n",
       "    <tr>\n",
       "      <th>horsepower</th>\n",
       "      <td>-0.778427</td>\n",
       "      <td>0.842983</td>\n",
       "      <td>0.897257</td>\n",
       "      <td>1.000000</td>\n",
       "      <td>0.864538</td>\n",
       "      <td>-0.689196</td>\n",
       "      <td>-0.416361</td>\n",
       "      <td>-0.455171</td>\n",
       "    </tr>\n",
       "    <tr>\n",
       "      <th>weight</th>\n",
       "      <td>-0.832244</td>\n",
       "      <td>0.897527</td>\n",
       "      <td>0.932994</td>\n",
       "      <td>0.864538</td>\n",
       "      <td>1.000000</td>\n",
       "      <td>-0.416839</td>\n",
       "      <td>-0.309120</td>\n",
       "      <td>-0.585005</td>\n",
       "    </tr>\n",
       "    <tr>\n",
       "      <th>acceleration</th>\n",
       "      <td>0.423329</td>\n",
       "      <td>-0.504683</td>\n",
       "      <td>-0.543800</td>\n",
       "      <td>-0.689196</td>\n",
       "      <td>-0.416839</td>\n",
       "      <td>1.000000</td>\n",
       "      <td>0.290316</td>\n",
       "      <td>0.212746</td>\n",
       "    </tr>\n",
       "    <tr>\n",
       "      <th>model_year</th>\n",
       "      <td>0.580541</td>\n",
       "      <td>-0.345647</td>\n",
       "      <td>-0.369855</td>\n",
       "      <td>-0.416361</td>\n",
       "      <td>-0.309120</td>\n",
       "      <td>0.290316</td>\n",
       "      <td>1.000000</td>\n",
       "      <td>0.181528</td>\n",
       "    </tr>\n",
       "    <tr>\n",
       "      <th>origin</th>\n",
       "      <td>0.565209</td>\n",
       "      <td>-0.568932</td>\n",
       "      <td>-0.614535</td>\n",
       "      <td>-0.455171</td>\n",
       "      <td>-0.585005</td>\n",
       "      <td>0.212746</td>\n",
       "      <td>0.181528</td>\n",
       "      <td>1.000000</td>\n",
       "    </tr>\n",
       "  </tbody>\n",
       "</table>\n",
       "</div>\n",
       "      <button class=\"colab-df-convert\" onclick=\"convertToInteractive('df-98466de7-cee7-4955-9a98-1f9e840d1027')\"\n",
       "              title=\"Convert this dataframe to an interactive table.\"\n",
       "              style=\"display:none;\">\n",
       "        \n",
       "  <svg xmlns=\"http://www.w3.org/2000/svg\" height=\"24px\"viewBox=\"0 0 24 24\"\n",
       "       width=\"24px\">\n",
       "    <path d=\"M0 0h24v24H0V0z\" fill=\"none\"/>\n",
       "    <path d=\"M18.56 5.44l.94 2.06.94-2.06 2.06-.94-2.06-.94-.94-2.06-.94 2.06-2.06.94zm-11 1L8.5 8.5l.94-2.06 2.06-.94-2.06-.94L8.5 2.5l-.94 2.06-2.06.94zm10 10l.94 2.06.94-2.06 2.06-.94-2.06-.94-.94-2.06-.94 2.06-2.06.94z\"/><path d=\"M17.41 7.96l-1.37-1.37c-.4-.4-.92-.59-1.43-.59-.52 0-1.04.2-1.43.59L10.3 9.45l-7.72 7.72c-.78.78-.78 2.05 0 2.83L4 21.41c.39.39.9.59 1.41.59.51 0 1.02-.2 1.41-.59l7.78-7.78 2.81-2.81c.8-.78.8-2.07 0-2.86zM5.41 20L4 18.59l7.72-7.72 1.47 1.35L5.41 20z\"/>\n",
       "  </svg>\n",
       "      </button>\n",
       "      \n",
       "  <style>\n",
       "    .colab-df-container {\n",
       "      display:flex;\n",
       "      flex-wrap:wrap;\n",
       "      gap: 12px;\n",
       "    }\n",
       "\n",
       "    .colab-df-convert {\n",
       "      background-color: #E8F0FE;\n",
       "      border: none;\n",
       "      border-radius: 50%;\n",
       "      cursor: pointer;\n",
       "      display: none;\n",
       "      fill: #1967D2;\n",
       "      height: 32px;\n",
       "      padding: 0 0 0 0;\n",
       "      width: 32px;\n",
       "    }\n",
       "\n",
       "    .colab-df-convert:hover {\n",
       "      background-color: #E2EBFA;\n",
       "      box-shadow: 0px 1px 2px rgba(60, 64, 67, 0.3), 0px 1px 3px 1px rgba(60, 64, 67, 0.15);\n",
       "      fill: #174EA6;\n",
       "    }\n",
       "\n",
       "    [theme=dark] .colab-df-convert {\n",
       "      background-color: #3B4455;\n",
       "      fill: #D2E3FC;\n",
       "    }\n",
       "\n",
       "    [theme=dark] .colab-df-convert:hover {\n",
       "      background-color: #434B5C;\n",
       "      box-shadow: 0px 1px 3px 1px rgba(0, 0, 0, 0.15);\n",
       "      filter: drop-shadow(0px 1px 2px rgba(0, 0, 0, 0.3));\n",
       "      fill: #FFFFFF;\n",
       "    }\n",
       "  </style>\n",
       "\n",
       "      <script>\n",
       "        const buttonEl =\n",
       "          document.querySelector('#df-98466de7-cee7-4955-9a98-1f9e840d1027 button.colab-df-convert');\n",
       "        buttonEl.style.display =\n",
       "          google.colab.kernel.accessAllowed ? 'block' : 'none';\n",
       "\n",
       "        async function convertToInteractive(key) {\n",
       "          const element = document.querySelector('#df-98466de7-cee7-4955-9a98-1f9e840d1027');\n",
       "          const dataTable =\n",
       "            await google.colab.kernel.invokeFunction('convertToInteractive',\n",
       "                                                     [key], {});\n",
       "          if (!dataTable) return;\n",
       "\n",
       "          const docLinkHtml = 'Like what you see? Visit the ' +\n",
       "            '<a target=\"_blank\" href=https://colab.research.google.com/notebooks/data_table.ipynb>data table notebook</a>'\n",
       "            + ' to learn more about interactive tables.';\n",
       "          element.innerHTML = '';\n",
       "          dataTable['output_type'] = 'display_data';\n",
       "          await google.colab.output.renderOutput(dataTable, element);\n",
       "          const docLink = document.createElement('div');\n",
       "          docLink.innerHTML = docLinkHtml;\n",
       "          element.appendChild(docLink);\n",
       "        }\n",
       "      </script>\n",
       "    </div>\n",
       "  </div>\n",
       "  "
      ],
      "text/plain": [
       "                   mpg  cylinders  ...  model_year    origin\n",
       "mpg           1.000000  -0.777618  ...    0.580541  0.565209\n",
       "cylinders    -0.777618   1.000000  ...   -0.345647 -0.568932\n",
       "displacement -0.805127   0.950823  ...   -0.369855 -0.614535\n",
       "horsepower   -0.778427   0.842983  ...   -0.416361 -0.455171\n",
       "weight       -0.832244   0.897527  ...   -0.309120 -0.585005\n",
       "acceleration  0.423329  -0.504683  ...    0.290316  0.212746\n",
       "model_year    0.580541  -0.345647  ...    1.000000  0.181528\n",
       "origin        0.565209  -0.568932  ...    0.181528  1.000000\n",
       "\n",
       "[8 rows x 8 columns]"
      ]
     },
     "execution_count": 14,
     "metadata": {},
     "output_type": "execute_result"
    }
   ],
   "source": [
    "data_interactions_2_3.corr()\n",
    "### displacement, horsepower and weight are highly correlated \n",
    "### If we put all three of the variables into the regression model, it will casue mulitlinearity\n",
    "### We choose to drop displacement and weight, and consider the horsepower"
   ]
  },
  {
   "cell_type": "code",
   "execution_count": null,
   "id": "f67178da",
   "metadata": {
    "colab": {
     "base_uri": "https://localhost:8080/"
    },
    "id": "f67178da",
    "outputId": "3f0a100b-5d42-4391-b280-f049fa0468fb"
   },
   "outputs": [
    {
     "name": "stdout",
     "output_type": "stream",
     "text": [
      "                            OLS Regression Results                            \n",
      "==============================================================================\n",
      "Dep. Variable:                    mpg   R-squared:                       0.806\n",
      "Model:                            OLS   Adj. R-squared:                  0.787\n",
      "Method:                 Least Squares   F-statistic:                     43.52\n",
      "Date:                Sat, 22 Jan 2022   Prob (F-statistic):          3.58e-106\n",
      "Time:                        07:23:45   Log-Likelihood:                -1040.1\n",
      "No. Observations:                 392   AIC:                             2150.\n",
      "Df Residuals:                     357   BIC:                             2289.\n",
      "Df Model:                          34                                         \n",
      "Covariance Type:            nonrobust                                         \n",
      "=============================================================================================\n",
      "                                coef    std err          t      P>|t|      [0.025      0.975]\n",
      "---------------------------------------------------------------------------------------------\n",
      "Intercept                    -9.3356      5.251     -1.778      0.076     -19.662       0.990\n",
      "carbrand[T.audi]              0.5286      1.405      0.376      0.707      -2.235       3.293\n",
      "carbrand[T.bmw]              -0.5754      2.563     -0.224      0.822      -5.616       4.465\n",
      "carbrand[T.buick]             1.3703      1.156      1.186      0.237      -0.903       3.644\n",
      "carbrand[T.cadillac]          4.3504      2.674      1.627      0.105      -0.908       9.609\n",
      "carbrand[T.capri]             0.5344      3.692      0.145      0.885      -6.727       7.796\n",
      "carbrand[T.chevrolet]         0.9030      0.878      1.029      0.304      -0.823       2.629\n",
      "carbrand[T.chrysler]          0.2299      1.681      0.137      0.891      -3.076       3.535\n",
      "carbrand[T.datsun]            1.8414      0.969      1.901      0.058      -0.064       3.747\n",
      "carbrand[T.dodge]             1.7286      0.992      1.743      0.082      -0.222       3.679\n",
      "carbrand[T.fiat]              2.1313      1.361      1.566      0.118      -0.546       4.808\n",
      "carbrand[T.ford]             -0.0705      0.872     -0.081      0.936      -1.785       1.644\n",
      "carbrand[T.hi]                3.1104      3.803      0.818      0.414      -4.369      10.590\n",
      "carbrand[T.honda]             1.3737      1.146      1.199      0.232      -0.880       3.628\n",
      "carbrand[T.mazda]            -1.8298      1.145     -1.598      0.111      -4.082       0.423\n",
      "carbrand[T.mercedes]         -1.2597      3.543     -0.356      0.722      -8.227       5.707\n",
      "carbrand[T.mercedes-benz]    -1.7427      2.529     -0.689      0.491      -6.716       3.231\n",
      "carbrand[T.mercury]           0.1867      1.296      0.144      0.886      -2.362       2.736\n",
      "carbrand[T.nissan]            2.6769      3.271      0.818      0.414      -3.756       9.110\n",
      "carbrand[T.oldsmobile]        2.8626      1.361      2.103      0.036       0.185       5.540\n",
      "carbrand[T.opel]             -0.0846      1.844     -0.046      0.963      -3.712       3.542\n",
      "carbrand[T.peugeot]          -0.8257      1.362     -0.606      0.545      -3.505       1.853\n",
      "carbrand[T.plymouth]          1.9908      0.953      2.088      0.037       0.116       3.866\n",
      "carbrand[T.pontiac]           2.1313      1.177      1.811      0.071      -0.183       4.445\n",
      "carbrand[T.renault]           2.7258      2.088      1.306      0.193      -1.380       6.832\n",
      "carbrand[T.saab]             -0.0533      1.849     -0.029      0.977      -3.689       3.583\n",
      "carbrand[T.subaru]           -0.4671      1.744     -0.268      0.789      -3.896       2.962\n",
      "carbrand[T.toyota]           -0.9279      0.956     -0.971      0.332      -2.808       0.952\n",
      "carbrand[T.triumph]           5.4380      3.539      1.537      0.125      -1.522      12.398\n",
      "carbrand[T.volkswagen]        3.3401      0.894      3.736      0.000       1.582       5.099\n",
      "carbrand[T.volvo]            -3.3841      1.502     -2.252      0.025      -6.339      -0.429\n",
      "cylinders                    -1.3117      0.241     -5.447      0.000      -1.785      -0.838\n",
      "horsepower                   -0.0802      0.013     -6.365      0.000      -0.105      -0.055\n",
      "acceleration                 -0.3640      0.104     -3.506      0.001      -0.568      -0.160\n",
      "model_year                    0.6528      0.059     11.095      0.000       0.537       0.769\n",
      "origin                        2.2370      0.586      3.814      0.000       1.084       3.390\n",
      "==============================================================================\n",
      "Omnibus:                       38.763   Durbin-Watson:                   1.195\n",
      "Prob(Omnibus):                  0.000   Jarque-Bera (JB):               57.653\n",
      "Skew:                           0.670   Prob(JB):                     3.02e-13\n",
      "Kurtosis:                       4.317   Cond. No.                     2.43e+16\n",
      "==============================================================================\n",
      "\n",
      "Warnings:\n",
      "[1] Standard Errors assume that the covariance matrix of the errors is correctly specified.\n",
      "[2] The smallest eigenvalue is 1.19e-26. This might indicate that there are\n",
      "strong multicollinearity problems or that the design matrix is singular.\n"
     ]
    }
   ],
   "source": [
    "import statsmodels.api as sm\n",
    "import statsmodels.formula.api as smf\n",
    "##linear regression models\n",
    "model_2_1 = smf.ols('mpg ~ cylinders+horsepower+acceleration+model_year+origin+carbrand', data=data_interactions_2_3).fit()\n",
    "print(model_2_1.summary())"
   ]
  },
  {
   "cell_type": "code",
   "execution_count": null,
   "id": "36855ec8",
   "metadata": {
    "id": "36855ec8"
   },
   "outputs": [],
   "source": [
    "#! pip install matplotlib\n",
    "import matplotlib.pyplot as plt"
   ]
  },
  {
   "cell_type": "code",
   "execution_count": null,
   "id": "e125c416",
   "metadata": {
    "colab": {
     "base_uri": "https://localhost:8080/",
     "height": 283
    },
    "id": "e125c416",
    "outputId": "f85fd706-3281-439e-ebed-17e655d47c16"
   },
   "outputs": [
    {
     "data": {
      "image/png": "[encoded data removed]",
      "text/plain": [
       "<Figure size 432x288 with 2 Axes>"
      ]
     },
     "metadata": {
      "needs_background": "light"
     },
     "output_type": "display_data"
    }
   ],
   "source": [
    "y=data_interactions_2_3[\"mpg\"]\n",
    "x=data_interactions_2_3[\"horsepower\"]\n",
    "c=data_interactions_2_3[\"cylinders\"]\n",
    "plt.scatter(x, y, c=c, alpha=0.5)\n",
    "plt.colorbar()\n",
    "plt.xlabel(\"horsepower\")\n",
    "plt.ylabel(\"mpg\")\n",
    "plt.show()\n",
    "### The sactter plot shows that when cylinder is different the slope of regression between mpg and horespower differs ,condisder the interaction between cylinders and horsepower"
   ]
  },
  {
   "cell_type": "code",
   "execution_count": null,
   "id": "51b8bfb6",
   "metadata": {
    "colab": {
     "base_uri": "https://localhost:8080/",
     "height": 283
    },
    "id": "51b8bfb6",
    "outputId": "21b6cd4d-4890-4597-9155-370b208e1024"
   },
   "outputs": [
    {
     "data": {
      "image/png": "[encoded data removed]",
      "text/plain": [
       "<Figure size 432x288 with 2 Axes>"
      ]
     },
     "metadata": {
      "needs_background": "light"
     },
     "output_type": "display_data"
    }
   ],
   "source": [
    "y=data_interactions_2_3[\"mpg\"]\n",
    "x=data_interactions_2_3[\"acceleration\"]\n",
    "c=data_interactions_2_3[\"cylinders\"]\n",
    "plt.scatter(x, y, c=c, alpha=0.5)\n",
    "plt.colorbar()\n",
    "plt.xlabel(\"acceleration\")\n",
    "plt.ylabel(\"mpg\")\n",
    "plt.show()\n",
    "### The sactter plot shows that when cylinder is different the slope of regression between mpg and acceleration differs. Condisder the interaction between cylinders and acceleration"
   ]
  },
  {
   "cell_type": "code",
   "execution_count": null,
   "id": "6499a232",
   "metadata": {
    "colab": {
     "base_uri": "https://localhost:8080/",
     "height": 283
    },
    "id": "6499a232",
    "outputId": "f1369203-b3d9-4f3a-d8bb-517b0104f6dc"
   },
   "outputs": [
    {
     "data": {
      "image/png": "[encoded data removed]",
      "text/plain": [
       "<Figure size 432x288 with 2 Axes>"
      ]
     },
     "metadata": {
      "needs_background": "light"
     },
     "output_type": "display_data"
    }
   ],
   "source": [
    "y=data_interactions_2_3[\"mpg\"]\n",
    "x=data_interactions_2_3[\"horsepower\"]\n",
    "c=data_interactions_2_3[\"origin\"]\n",
    "plt.scatter(x, y, c=c, alpha=0.5)\n",
    "plt.colorbar()\n",
    "plt.xlabel(\"horsepower\")\n",
    "plt.ylabel(\"origin\")\n",
    "plt.show()\n",
    "### Not Condisder the interaction between origin and horsepower or acceleration"
   ]
  },
  {
   "cell_type": "code",
   "execution_count": null,
   "id": "a236a82c",
   "metadata": {
    "colab": {
     "base_uri": "https://localhost:8080/"
    },
    "id": "a236a82c",
    "outputId": "3fed611a-09ed-4cc0-af5f-7061b2eabad1"
   },
   "outputs": [
    {
     "name": "stdout",
     "output_type": "stream",
     "text": [
      "                            OLS Regression Results                            \n",
      "==============================================================================\n",
      "Dep. Variable:                    mpg   R-squared:                       0.868\n",
      "Model:                            OLS   Adj. R-squared:                  0.855\n",
      "Method:                 Least Squares   F-statistic:                     65.05\n",
      "Date:                Sat, 22 Jan 2022   Prob (F-statistic):          5.08e-134\n",
      "Time:                        07:23:59   Log-Likelihood:                -963.77\n",
      "No. Observations:                 392   AIC:                             2002.\n",
      "Df Residuals:                     355   BIC:                             2148.\n",
      "Df Model:                          36                                         \n",
      "Covariance Type:            nonrobust                                         \n",
      "=============================================================================================\n",
      "                                coef    std err          t      P>|t|      [0.025      0.975]\n",
      "---------------------------------------------------------------------------------------------\n",
      "Intercept                    20.8955      8.335      2.507      0.013       4.504      37.287\n",
      "carbrand[T.audi]              0.0220      1.180      0.019      0.985      -2.299       2.343\n",
      "carbrand[T.bmw]               2.8421      2.145      1.325      0.186      -1.376       7.060\n",
      "carbrand[T.buick]             1.0111      0.960      1.053      0.293      -0.877       2.899\n",
      "carbrand[T.cadillac]          3.1019      2.228      1.392      0.165      -1.281       7.485\n",
      "carbrand[T.capri]             0.3767      3.049      0.124      0.902      -5.619       6.372\n",
      "carbrand[T.chevrolet]        -0.3393      0.731     -0.464      0.643      -1.776       1.098\n",
      "carbrand[T.chrysler]         -1.7858      1.402     -1.273      0.204      -4.544       0.972\n",
      "carbrand[T.datsun]            0.5984      0.858      0.697      0.486      -1.089       2.286\n",
      "carbrand[T.dodge]             0.4179      0.831      0.503      0.615      -1.216       2.052\n",
      "carbrand[T.fiat]             -0.8588      1.190     -0.722      0.471      -3.198       1.481\n",
      "carbrand[T.ford]             -1.2869      0.728     -1.767      0.078      -2.719       0.145\n",
      "carbrand[T.hi]                2.3526      3.348      0.703      0.483      -4.232       8.937\n",
      "carbrand[T.honda]            -2.4934      1.090     -2.287      0.023      -4.638      -0.349\n",
      "carbrand[T.mazda]            -3.8602      1.042     -3.705      0.000      -5.909      -1.811\n",
      "carbrand[T.mercedes]         -2.2119      2.928     -0.755      0.450      -7.970       3.546\n",
      "carbrand[T.mercedes-benz]    -2.1936      2.088     -1.051      0.294      -6.300       1.913\n",
      "carbrand[T.mercury]          -1.1164      1.078     -1.036      0.301      -3.236       1.004\n",
      "carbrand[T.nissan]            2.0470      2.728      0.750      0.454      -3.319       7.413\n",
      "carbrand[T.oldsmobile]        2.6637      1.149      2.318      0.021       0.404       4.923\n",
      "carbrand[T.opel]             -1.7487      1.555     -1.125      0.261      -4.806       1.309\n",
      "carbrand[T.peugeot]          -1.3908      1.126     -1.236      0.217      -3.604       0.823\n",
      "carbrand[T.plymouth]          0.8175      0.795      1.028      0.304      -0.746       2.381\n",
      "carbrand[T.pontiac]           0.7843      0.977      0.802      0.423      -1.138       2.706\n",
      "carbrand[T.renault]          -0.7284      1.758     -0.414      0.679      -4.186       2.729\n",
      "carbrand[T.saab]              3.1060      1.547      2.008      0.045       0.063       6.149\n",
      "carbrand[T.subaru]           -3.2130      1.496     -2.148      0.032      -6.154      -0.272\n",
      "carbrand[T.toyota]           -2.1045      0.860     -2.446      0.015      -3.797      -0.412\n",
      "carbrand[T.triumph]           4.6876      2.930      1.600      0.110      -1.074      10.449\n",
      "carbrand[T.volkswagen]       -1.2081      0.856     -1.411      0.159      -2.892       0.476\n",
      "carbrand[T.volvo]            -1.1946      1.258     -0.950      0.343      -3.669       1.280\n",
      "cylinders                    -5.2503      1.250     -4.200      0.000      -7.709      -2.792\n",
      "horsepower                   -0.4558      0.038    -11.967      0.000      -0.531      -0.381\n",
      "acceleration                 -0.2394      0.297     -0.805      0.421      -0.824       0.345\n",
      "model_year                    0.6986      0.049     14.314      0.000       0.603       0.795\n",
      "origin                        1.9666      0.503      3.912      0.000       0.978       2.955\n",
      "cylinders:horsepower          0.0502      0.005      9.352      0.000       0.040       0.061\n",
      "cylinders:acceleration       -0.0555      0.054     -1.026      0.305      -0.162       0.051\n",
      "==============================================================================\n",
      "Omnibus:                       53.868   Durbin-Watson:                   1.509\n",
      "Prob(Omnibus):                  0.000   Jarque-Bera (JB):              100.903\n",
      "Skew:                           0.782   Prob(JB):                     1.23e-22\n",
      "Kurtosis:                       4.932   Cond. No.                     5.06e+15\n",
      "==============================================================================\n",
      "\n",
      "Warnings:\n",
      "[1] Standard Errors assume that the covariance matrix of the errors is correctly specified.\n",
      "[2] The smallest eigenvalue is 9.03e-24. This might indicate that there are\n",
      "strong multicollinearity problems or that the design matrix is singular.\n"
     ]
    }
   ],
   "source": [
    "##linear regression models + interactions \n",
    "model_2_2 = smf.ols('mpg ~ cylinders+horsepower+acceleration+model_year+origin+carbrand+cylinders*horsepower+cylinders*acceleration', data=data_interactions_2_3).fit()\n",
    "print(model_2_2.summary())"
   ]
  },
  {
   "cell_type": "markdown",
   "id": "9MoXcizeacZ2",
   "metadata": {
    "id": "9MoXcizeacZ2"
   },
   "source": [
    "When comparing to the linear regression model without interaction, the model with interaction has an improved R^squared value from 0.806 to 0.868. It means that 86.8% of the variation in mpg is explained by the model. The remaining 13.2% is unexplained. Also, in this case, adj R-squared is increased from 0.787 to 0.855. Based on higher R-squared and adj R-squared values, the regression model with interaction terms has a better fit.\n",
    "\n",
    "The improvements show that there exsists interaction between cylinders and horsepower (the p-value of the interaction terms is less than 0.01) which is significant at the 99% significance level.\n",
    "\n",
    "The result indicates that when horsepower is influencing the mpg, the level of influence is changed when having different number of cylinders. When car equiped more cylinders and with higher horsepower the mpg increases."
   ]
  },
  {
   "cell_type": "markdown",
   "id": "22303b1e",
   "metadata": {
    "id": "22303b1e"
   },
   "source": [
    "# Question 3"
   ]
  },
  {
   "cell_type": "markdown",
   "id": "5c1cbca1",
   "metadata": {
    "id": "5c1cbca1"
   },
   "source": [
    "Create a Logistic Regression model on the diabetes data set to identify if a patient has diabetes (‘Outcome’ column in the data set)."
   ]
  },
  {
   "cell_type": "code",
   "execution_count": null,
   "id": "91c8e13e",
   "metadata": {
    "colab": {
     "base_uri": "https://localhost:8080/",
     "height": 423
    },
    "id": "91c8e13e",
    "outputId": "851e8b2e-b6c5-4102-ece0-90d1f8f7aa91"
   },
   "outputs": [
    {
     "data": {
      "text/html": [
       "\n",
       "  <div id=\"df-e0b43a19-336c-4999-9b33-02d2f81ce1dc\">\n",
       "    <div class=\"colab-df-container\">\n",
       "      <div>\n",
       "<style scoped>\n",
       "    .dataframe tbody tr th:only-of-type {\n",
       "        vertical-align: middle;\n",
       "    }\n",
       "\n",
       "    .dataframe tbody tr th {\n",
       "        vertical-align: top;\n",
       "    }\n",
       "\n",
       "    .dataframe thead th {\n",
       "        text-align: right;\n",
       "    }\n",
       "</style>\n",
       "<table border=\"1\" class=\"dataframe\">\n",
       "  <thead>\n",
       "    <tr style=\"text-align: right;\">\n",
       "      <th></th>\n",
       "      <th>Pregnancies</th>\n",
       "      <th>Glucose</th>\n",
       "      <th>BloodPressure</th>\n",
       "      <th>SkinThickness</th>\n",
       "      <th>Insulin</th>\n",
       "      <th>BMI</th>\n",
       "      <th>DiabetesPedigreeFunction</th>\n",
       "      <th>Age</th>\n",
       "      <th>Outcome</th>\n",
       "    </tr>\n",
       "  </thead>\n",
       "  <tbody>\n",
       "    <tr>\n",
       "      <th>0</th>\n",
       "      <td>6</td>\n",
       "      <td>148</td>\n",
       "      <td>72</td>\n",
       "      <td>35</td>\n",
       "      <td>0</td>\n",
       "      <td>33.6</td>\n",
       "      <td>0.627</td>\n",
       "      <td>50</td>\n",
       "      <td>1</td>\n",
       "    </tr>\n",
       "    <tr>\n",
       "      <th>1</th>\n",
       "      <td>1</td>\n",
       "      <td>85</td>\n",
       "      <td>66</td>\n",
       "      <td>29</td>\n",
       "      <td>0</td>\n",
       "      <td>26.6</td>\n",
       "      <td>0.351</td>\n",
       "      <td>31</td>\n",
       "      <td>0</td>\n",
       "    </tr>\n",
       "    <tr>\n",
       "      <th>2</th>\n",
       "      <td>8</td>\n",
       "      <td>183</td>\n",
       "      <td>64</td>\n",
       "      <td>0</td>\n",
       "      <td>0</td>\n",
       "      <td>23.3</td>\n",
       "      <td>0.672</td>\n",
       "      <td>32</td>\n",
       "      <td>1</td>\n",
       "    </tr>\n",
       "    <tr>\n",
       "      <th>3</th>\n",
       "      <td>1</td>\n",
       "      <td>89</td>\n",
       "      <td>66</td>\n",
       "      <td>23</td>\n",
       "      <td>94</td>\n",
       "      <td>28.1</td>\n",
       "      <td>0.167</td>\n",
       "      <td>21</td>\n",
       "      <td>0</td>\n",
       "    </tr>\n",
       "    <tr>\n",
       "      <th>4</th>\n",
       "      <td>0</td>\n",
       "      <td>137</td>\n",
       "      <td>40</td>\n",
       "      <td>35</td>\n",
       "      <td>168</td>\n",
       "      <td>43.1</td>\n",
       "      <td>2.288</td>\n",
       "      <td>33</td>\n",
       "      <td>1</td>\n",
       "    </tr>\n",
       "    <tr>\n",
       "      <th>...</th>\n",
       "      <td>...</td>\n",
       "      <td>...</td>\n",
       "      <td>...</td>\n",
       "      <td>...</td>\n",
       "      <td>...</td>\n",
       "      <td>...</td>\n",
       "      <td>...</td>\n",
       "      <td>...</td>\n",
       "      <td>...</td>\n",
       "    </tr>\n",
       "    <tr>\n",
       "      <th>763</th>\n",
       "      <td>10</td>\n",
       "      <td>101</td>\n",
       "      <td>76</td>\n",
       "      <td>48</td>\n",
       "      <td>180</td>\n",
       "      <td>32.9</td>\n",
       "      <td>0.171</td>\n",
       "      <td>63</td>\n",
       "      <td>0</td>\n",
       "    </tr>\n",
       "    <tr>\n",
       "      <th>764</th>\n",
       "      <td>2</td>\n",
       "      <td>122</td>\n",
       "      <td>70</td>\n",
       "      <td>27</td>\n",
       "      <td>0</td>\n",
       "      <td>36.8</td>\n",
       "      <td>0.340</td>\n",
       "      <td>27</td>\n",
       "      <td>0</td>\n",
       "    </tr>\n",
       "    <tr>\n",
       "      <th>765</th>\n",
       "      <td>5</td>\n",
       "      <td>121</td>\n",
       "      <td>72</td>\n",
       "      <td>23</td>\n",
       "      <td>112</td>\n",
       "      <td>26.2</td>\n",
       "      <td>0.245</td>\n",
       "      <td>30</td>\n",
       "      <td>0</td>\n",
       "    </tr>\n",
       "    <tr>\n",
       "      <th>766</th>\n",
       "      <td>1</td>\n",
       "      <td>126</td>\n",
       "      <td>60</td>\n",
       "      <td>0</td>\n",
       "      <td>0</td>\n",
       "      <td>30.1</td>\n",
       "      <td>0.349</td>\n",
       "      <td>47</td>\n",
       "      <td>1</td>\n",
       "    </tr>\n",
       "    <tr>\n",
       "      <th>767</th>\n",
       "      <td>1</td>\n",
       "      <td>93</td>\n",
       "      <td>70</td>\n",
       "      <td>31</td>\n",
       "      <td>0</td>\n",
       "      <td>30.4</td>\n",
       "      <td>0.315</td>\n",
       "      <td>23</td>\n",
       "      <td>0</td>\n",
       "    </tr>\n",
       "  </tbody>\n",
       "</table>\n",
       "<p>768 rows × 9 columns</p>\n",
       "</div>\n",
       "      <button class=\"colab-df-convert\" onclick=\"convertToInteractive('df-e0b43a19-336c-4999-9b33-02d2f81ce1dc')\"\n",
       "              title=\"Convert this dataframe to an interactive table.\"\n",
       "              style=\"display:none;\">\n",
       "        \n",
       "  <svg xmlns=\"http://www.w3.org/2000/svg\" height=\"24px\"viewBox=\"0 0 24 24\"\n",
       "       width=\"24px\">\n",
       "    <path d=\"M0 0h24v24H0V0z\" fill=\"none\"/>\n",
       "    <path d=\"M18.56 5.44l.94 2.06.94-2.06 2.06-.94-2.06-.94-.94-2.06-.94 2.06-2.06.94zm-11 1L8.5 8.5l.94-2.06 2.06-.94-2.06-.94L8.5 2.5l-.94 2.06-2.06.94zm10 10l.94 2.06.94-2.06 2.06-.94-2.06-.94-.94-2.06-.94 2.06-2.06.94z\"/><path d=\"M17.41 7.96l-1.37-1.37c-.4-.4-.92-.59-1.43-.59-.52 0-1.04.2-1.43.59L10.3 9.45l-7.72 7.72c-.78.78-.78 2.05 0 2.83L4 21.41c.39.39.9.59 1.41.59.51 0 1.02-.2 1.41-.59l7.78-7.78 2.81-2.81c.8-.78.8-2.07 0-2.86zM5.41 20L4 18.59l7.72-7.72 1.47 1.35L5.41 20z\"/>\n",
       "  </svg>\n",
       "      </button>\n",
       "      \n",
       "  <style>\n",
       "    .colab-df-container {\n",
       "      display:flex;\n",
       "      flex-wrap:wrap;\n",
       "      gap: 12px;\n",
       "    }\n",
       "\n",
       "    .colab-df-convert {\n",
       "      background-color: #E8F0FE;\n",
       "      border: none;\n",
       "      border-radius: 50%;\n",
       "      cursor: pointer;\n",
       "      display: none;\n",
       "      fill: #1967D2;\n",
       "      height: 32px;\n",
       "      padding: 0 0 0 0;\n",
       "      width: 32px;\n",
       "    }\n",
       "\n",
       "    .colab-df-convert:hover {\n",
       "      background-color: #E2EBFA;\n",
       "      box-shadow: 0px 1px 2px rgba(60, 64, 67, 0.3), 0px 1px 3px 1px rgba(60, 64, 67, 0.15);\n",
       "      fill: #174EA6;\n",
       "    }\n",
       "\n",
       "    [theme=dark] .colab-df-convert {\n",
       "      background-color: #3B4455;\n",
       "      fill: #D2E3FC;\n",
       "    }\n",
       "\n",
       "    [theme=dark] .colab-df-convert:hover {\n",
       "      background-color: #434B5C;\n",
       "      box-shadow: 0px 1px 3px 1px rgba(0, 0, 0, 0.15);\n",
       "      filter: drop-shadow(0px 1px 2px rgba(0, 0, 0, 0.3));\n",
       "      fill: #FFFFFF;\n",
       "    }\n",
       "  </style>\n",
       "\n",
       "      <script>\n",
       "        const buttonEl =\n",
       "          document.querySelector('#df-e0b43a19-336c-4999-9b33-02d2f81ce1dc button.colab-df-convert');\n",
       "        buttonEl.style.display =\n",
       "          google.colab.kernel.accessAllowed ? 'block' : 'none';\n",
       "\n",
       "        async function convertToInteractive(key) {\n",
       "          const element = document.querySelector('#df-e0b43a19-336c-4999-9b33-02d2f81ce1dc');\n",
       "          const dataTable =\n",
       "            await google.colab.kernel.invokeFunction('convertToInteractive',\n",
       "                                                     [key], {});\n",
       "          if (!dataTable) return;\n",
       "\n",
       "          const docLinkHtml = 'Like what you see? Visit the ' +\n",
       "            '<a target=\"_blank\" href=https://colab.research.google.com/notebooks/data_table.ipynb>data table notebook</a>'\n",
       "            + ' to learn more about interactive tables.';\n",
       "          element.innerHTML = '';\n",
       "          dataTable['output_type'] = 'display_data';\n",
       "          await google.colab.output.renderOutput(dataTable, element);\n",
       "          const docLink = document.createElement('div');\n",
       "          docLink.innerHTML = docLinkHtml;\n",
       "          element.appendChild(docLink);\n",
       "        }\n",
       "      </script>\n",
       "    </div>\n",
       "  </div>\n",
       "  "
      ],
      "text/plain": [
       "     Pregnancies  Glucose  ...  Age  Outcome\n",
       "0              6      148  ...   50        1\n",
       "1              1       85  ...   31        0\n",
       "2              8      183  ...   32        1\n",
       "3              1       89  ...   21        0\n",
       "4              0      137  ...   33        1\n",
       "..           ...      ...  ...  ...      ...\n",
       "763           10      101  ...   63        0\n",
       "764            2      122  ...   27        0\n",
       "765            5      121  ...   30        0\n",
       "766            1      126  ...   47        1\n",
       "767            1       93  ...   23        0\n",
       "\n",
       "[768 rows x 9 columns]"
      ]
     },
     "execution_count": 21,
     "metadata": {},
     "output_type": "execute_result"
    }
   ],
   "source": [
    "diabetes =pd.read_csv(\"/content/drive/Shareddrives/ML&DD/ML Group A1/diabetes.csv\")\n",
    "diabetes "
   ]
  },
  {
   "cell_type": "code",
   "execution_count": null,
   "id": "dzO3eU6IuxEP",
   "metadata": {
    "id": "dzO3eU6IuxEP"
   },
   "outputs": [],
   "source": [
    "### Split the data into training and test dataset. 10% dataset is the test dataset.\n",
    "from sklearn.model_selection import train_test_split\n",
    "X = diabetes[['Pregnancies','Glucose','BloodPressure','SkinThickness','Insulin','BMI','DiabetesPedigreeFunction','Age']]\n",
    "y = diabetes[['Outcome']]\n",
    "X_train, X_test, y_train, y_test = train_test_split(X, y, test_size=0.1, random_state=2)\n"
   ]
  },
  {
   "cell_type": "code",
   "execution_count": null,
   "id": "625ca908",
   "metadata": {
    "colab": {
     "base_uri": "https://localhost:8080/",
     "height": 434
    },
    "id": "625ca908",
    "outputId": "fbffaf8c-f8f7-41db-8b8d-683193db2b84"
   },
   "outputs": [
    {
     "name": "stdout",
     "output_type": "stream",
     "text": [
      "Optimization terminated successfully.\n",
      "         Current function value: 0.604738\n",
      "         Iterations 5\n"
     ]
    },
    {
     "data": {
      "text/html": [
       "<table class=\"simpletable\">\n",
       "<tr>\n",
       "        <td>Model:</td>              <td>Logit</td>      <td>Pseudo R-squared:</td>    <td>0.066</td>  \n",
       "</tr>\n",
       "<tr>\n",
       "  <td>Dependent Variable:</td>      <td>Outcome</td>           <td>AIC:</td>         <td>851.7477</td> \n",
       "</tr>\n",
       "<tr>\n",
       "         <td>Date:</td>        <td>2022-01-22 07:24</td>       <td>BIC:</td>         <td>888.0528</td> \n",
       "</tr>\n",
       "<tr>\n",
       "   <td>No. Observations:</td>         <td>691</td>        <td>Log-Likelihood:</td>    <td>-417.87</td> \n",
       "</tr>\n",
       "<tr>\n",
       "       <td>Df Model:</td>              <td>7</td>            <td>LL-Null:</td>        <td>-447.48</td> \n",
       "</tr>\n",
       "<tr>\n",
       "     <td>Df Residuals:</td>           <td>683</td>         <td>LLR p-value:</td>    <td>2.1710e-10</td>\n",
       "</tr>\n",
       "<tr>\n",
       "      <td>Converged:</td>           <td>1.0000</td>           <td>Scale:</td>         <td>1.0000</td>  \n",
       "</tr>\n",
       "<tr>\n",
       "    <td>No. Iterations:</td>        <td>5.0000</td>              <td></td>               <td></td>     \n",
       "</tr>\n",
       "</table>\n",
       "<table class=\"simpletable\">\n",
       "<tr>\n",
       "              <td></td>              <th>Coef.</th>  <th>Std.Err.</th>    <th>z</th>     <th>P>|z|</th> <th>[0.025</th>  <th>0.975]</th> \n",
       "</tr>\n",
       "<tr>\n",
       "  <th>Pregnancies</th>              <td>0.1445</td>   <td>0.0310</td>  <td>4.6643</td>  <td>0.0000</td> <td>0.0838</td>  <td>0.2052</td> \n",
       "</tr>\n",
       "<tr>\n",
       "  <th>Glucose</th>                  <td>0.0143</td>   <td>0.0030</td>  <td>4.8434</td>  <td>0.0000</td> <td>0.0085</td>  <td>0.0201</td> \n",
       "</tr>\n",
       "<tr>\n",
       "  <th>BloodPressure</th>            <td>-0.0293</td>  <td>0.0049</td>  <td>-5.9249</td> <td>0.0000</td> <td>-0.0390</td> <td>-0.0196</td>\n",
       "</tr>\n",
       "<tr>\n",
       "  <th>SkinThickness</th>            <td>0.0012</td>   <td>0.0064</td>  <td>0.1868</td>  <td>0.8518</td> <td>-0.0113</td> <td>0.0137</td> \n",
       "</tr>\n",
       "<tr>\n",
       "  <th>Insulin</th>                  <td>0.0008</td>   <td>0.0008</td>  <td>0.9656</td>  <td>0.3343</td> <td>-0.0008</td> <td>0.0024</td> \n",
       "</tr>\n",
       "<tr>\n",
       "  <th>BMI</th>                      <td>-0.0099</td>  <td>0.0114</td>  <td>-0.8682</td> <td>0.3853</td> <td>-0.0323</td> <td>0.0125</td> \n",
       "</tr>\n",
       "<tr>\n",
       "  <th>DiabetesPedigreeFunction</th> <td>0.3829</td>   <td>0.2538</td>  <td>1.5088</td>  <td>0.1314</td> <td>-0.1145</td> <td>0.8802</td> \n",
       "</tr>\n",
       "<tr>\n",
       "  <th>Age</th>                      <td>-0.0214</td>  <td>0.0092</td>  <td>-2.3329</td> <td>0.0197</td> <td>-0.0393</td> <td>-0.0034</td>\n",
       "</tr>\n",
       "</table>"
      ],
      "text/plain": [
       "<class 'statsmodels.iolib.summary2.Summary'>\n",
       "\"\"\"\n",
       "                             Results: Logit\n",
       "========================================================================\n",
       "Model:                 Logit              Pseudo R-squared:   0.066     \n",
       "Dependent Variable:    Outcome            AIC:                851.7477  \n",
       "Date:                  2022-01-22 07:24   BIC:                888.0528  \n",
       "No. Observations:      691                Log-Likelihood:     -417.87   \n",
       "Df Model:              7                  LL-Null:            -447.48   \n",
       "Df Residuals:          683                LLR p-value:        2.1710e-10\n",
       "Converged:             1.0000             Scale:              1.0000    \n",
       "No. Iterations:        5.0000                                           \n",
       "------------------------------------------------------------------------\n",
       "                          Coef.  Std.Err.    z    P>|z|   [0.025  0.975]\n",
       "------------------------------------------------------------------------\n",
       "Pregnancies               0.1445   0.0310  4.6643 0.0000  0.0838  0.2052\n",
       "Glucose                   0.0143   0.0030  4.8434 0.0000  0.0085  0.0201\n",
       "BloodPressure            -0.0293   0.0049 -5.9249 0.0000 -0.0390 -0.0196\n",
       "SkinThickness             0.0012   0.0064  0.1868 0.8518 -0.0113  0.0137\n",
       "Insulin                   0.0008   0.0008  0.9656 0.3343 -0.0008  0.0024\n",
       "BMI                      -0.0099   0.0114 -0.8682 0.3853 -0.0323  0.0125\n",
       "DiabetesPedigreeFunction  0.3829   0.2538  1.5088 0.1314 -0.1145  0.8802\n",
       "Age                      -0.0214   0.0092 -2.3329 0.0197 -0.0393 -0.0034\n",
       "========================================================================\n",
       "\n",
       "\"\"\""
      ]
     },
     "execution_count": 23,
     "metadata": {},
     "output_type": "execute_result"
    }
   ],
   "source": [
    "### Bulid training logistic model with training dataset\n",
    "log_reg1 = sm.Logit(y_train, X_train).fit()\n",
    "log_reg1.summary()\n",
    "log_reg1.summary2()"
   ]
  },
  {
   "cell_type": "code",
   "execution_count": null,
   "id": "G2jvCg0q0jM3",
   "metadata": {
    "colab": {
     "base_uri": "https://localhost:8080/",
     "height": 337
    },
    "id": "G2jvCg0q0jM3",
    "outputId": "cfd825e0-470e-4418-e35e-a06119b5a1f5"
   },
   "outputs": [
    {
     "name": "stdout",
     "output_type": "stream",
     "text": [
      "Confusion Matrix : \n",
      " [[41 10]\n",
      " [15 11]]\n",
      "Test accuracy =  0.6753246753246753\n"
     ]
    },
    {
     "data": {
      "image/png": "[encoded data removed]",
      "text/plain": [
       "<Figure size 432x288 with 1 Axes>"
      ]
     },
     "metadata": {
      "needs_background": "light"
     },
     "output_type": "display_data"
    }
   ],
   "source": [
    "# performing predictions on the test datdaset\n",
    "yhat = log_reg1.predict(X_test)\n",
    "prediction = list(map(round, yhat))\n",
    " \n",
    "# comparing original and predicted values of y\n",
    "\n",
    "from sklearn.metrics import (confusion_matrix,accuracy_score)\n",
    " \n",
    "# confusion matrix\n",
    "cm = confusion_matrix(y_test, prediction)\n",
    "print (\"Confusion Matrix : \\n\", cm)\n",
    " \n",
    "# accuracy score of the model\n",
    "print('Test accuracy = ', accuracy_score(y_test, prediction))\n",
    "\n",
    "plt.plot(prediction,\"b.\", label = \"y_pred\")   \n",
    "plt.plot(y_test,\"r*\", label = \"y_true\")   \n",
    "plt.legend()\n",
    "plt.show() "
   ]
  },
  {
   "cell_type": "markdown",
   "id": "IgerHBny1cM-",
   "metadata": {
    "id": "IgerHBny1cM-"
   },
   "source": [
    "The logistic model has 67.5% accuracy of prediction of the test data. Although the accuracy is 67.5%, but for patients turely has diabetes, there is 15/(41+15)=26.78% possiblilty that the prediction is wrong, which might cause serious results."
   ]
  },
  {
   "cell_type": "markdown",
   "id": "992d5419",
   "metadata": {
    "id": "992d5419"
   },
   "source": [
    "Create Logistic Regression models on the diabetes data set by performing a stepwise addition of the features. Identify which features are informative towards the classification and write your observations based on the same. Finally, choose the best model and explain your reasons for the same."
   ]
  },
  {
   "cell_type": "code",
   "execution_count": null,
   "id": "NG22iVunHsSE",
   "metadata": {
    "id": "NG22iVunHsSE"
   },
   "outputs": [],
   "source": [
    "from sklearn.linear_model import LogisticRegression\n",
    "import statsmodels.api as sm\n",
    "\n",
    "def forward_selected(data, response):\n",
    "  \"\"\" This function is modified based on \n",
    "    https://planspace.org/20150423-forward_selection_with_statsmodels/\n",
    "    \n",
    "    Linear model designed by forward selection.\n",
    "  \"\"\"\n",
    "    \n",
    "    # Get column names and assign them to \"remaining\" (unselected variables)\n",
    "  remaining = set(data.columns)\n",
    "\n",
    "    # Remove Y from remaining\n",
    "  remaining.remove(response)\n",
    "\n",
    "    # Create an empty list to store selected variables\n",
    "  selected = []\n",
    "\n",
    "    # Set current AIC score to 1200 and best AIC score to 0\n",
    "  current_score, best_new_score = 1200.0, 0.0\n",
    "\n",
    "    # While remaining is not empty and current score >= best score\n",
    "  while remaining and current_score >= best_new_score:\n",
    "        \n",
    "        # Create an empty list for accuracy scores\n",
    "      scores_with_candidates = []\n",
    "\n",
    "        # For each candidate variable in the unselected variables, \n",
    "        # fit logistic regression on selected variables + candidate\n",
    "      for candidate in remaining:\n",
    "          y_train = data[response]\n",
    "          x_train = data[selected + [candidate]]\n",
    "          log_reg = sm.Logit(y_train, x_train).fit()\n",
    "          score = log_reg.aic\n",
    "  \n",
    "            # Update the score list with new score and candidate variable\n",
    "          scores_with_candidates.append((score, candidate))\n",
    "        \n",
    "        # Sort the score list in ascending order\n",
    "      scores_with_candidates.sort(reverse=True)\n",
    "        # Get the highest score and the corresponding variable\n",
    "      best_new_score, best_candidate = scores_with_candidates.pop()\n",
    "        # If current score >= best new score, select this candidate variable\n",
    "        # remove this variable from remaining\n",
    "        # Update the current score\n",
    "      if current_score >= best_new_score:\n",
    "\n",
    "            # Remove the candidate from remaining\n",
    "          remaining.remove(best_candidate)\n",
    "\n",
    "            # Add the candidate to selected\n",
    "          selected.append(best_candidate)\n",
    "\n",
    "            # Replace the current score with the best score\n",
    "          current_score = best_new_score\n",
    "  return selected"
   ]
  },
  {
   "cell_type": "code",
   "execution_count": null,
   "id": "Cx_sYcxaHtyn",
   "metadata": {
    "colab": {
     "base_uri": "https://localhost:8080/"
    },
    "id": "Cx_sYcxaHtyn",
    "outputId": "8dfda2de-475a-4b93-d1f1-c13d2e66ddc1"
   },
   "outputs": [
    {
     "name": "stdout",
     "output_type": "stream",
     "text": [
      "Optimization terminated successfully.\n",
      "         Current function value: 0.654990\n",
      "         Iterations 4\n",
      "Optimization terminated successfully.\n",
      "         Current function value: 0.677125\n",
      "         Iterations 4\n",
      "Optimization terminated successfully.\n",
      "         Current function value: 0.673876\n",
      "         Iterations 4\n",
      "Optimization terminated successfully.\n",
      "         Current function value: 0.690697\n",
      "         Iterations 3\n",
      "Optimization terminated successfully.\n",
      "         Current function value: 0.681407\n",
      "         Iterations 4\n",
      "Optimization terminated successfully.\n",
      "         Current function value: 0.667202\n",
      "         Iterations 4\n",
      "Optimization terminated successfully.\n",
      "         Current function value: 0.689269\n",
      "         Iterations 4\n",
      "Optimization terminated successfully.\n",
      "         Current function value: 0.671035\n",
      "         Iterations 4\n",
      "Optimization terminated successfully.\n",
      "         Current function value: 0.623697\n",
      "         Iterations 5\n",
      "Optimization terminated successfully.\n",
      "         Current function value: 0.654180\n",
      "         Iterations 4\n",
      "Optimization terminated successfully.\n",
      "         Current function value: 0.649153\n",
      "         Iterations 4\n",
      "Optimization terminated successfully.\n",
      "         Current function value: 0.648695\n",
      "         Iterations 5\n",
      "Optimization terminated successfully.\n",
      "         Current function value: 0.647769\n",
      "         Iterations 4\n",
      "Optimization terminated successfully.\n",
      "         Current function value: 0.637961\n",
      "         Iterations 5\n",
      "Optimization terminated successfully.\n",
      "         Current function value: 0.646736\n",
      "         Iterations 4\n",
      "Optimization terminated successfully.\n",
      "         Current function value: 0.623654\n",
      "         Iterations 5\n",
      "Optimization terminated successfully.\n",
      "         Current function value: 0.623219\n",
      "         Iterations 5\n",
      "Optimization terminated successfully.\n",
      "         Current function value: 0.622914\n",
      "         Iterations 5\n",
      "Optimization terminated successfully.\n",
      "         Current function value: 0.623612\n",
      "         Iterations 5\n",
      "Optimization terminated successfully.\n",
      "         Current function value: 0.613118\n",
      "         Iterations 5\n",
      "Optimization terminated successfully.\n",
      "         Current function value: 0.623560\n",
      "         Iterations 5\n",
      "Optimization terminated successfully.\n",
      "         Current function value: 0.612759\n",
      "         Iterations 5\n",
      "Optimization terminated successfully.\n",
      "         Current function value: 0.611840\n",
      "         Iterations 5\n",
      "Optimization terminated successfully.\n",
      "         Current function value: 0.612003\n",
      "         Iterations 5\n",
      "Optimization terminated successfully.\n",
      "         Current function value: 0.613087\n",
      "         Iterations 5\n",
      "Optimization terminated successfully.\n",
      "         Current function value: 0.610634\n",
      "         Iterations 5\n",
      "Optimization terminated successfully.\n",
      "         Current function value: 0.610438\n",
      "         Iterations 5\n",
      "Optimization terminated successfully.\n",
      "         Current function value: 0.609719\n",
      "         Iterations 5\n",
      "Optimization terminated successfully.\n",
      "         Current function value: 0.609329\n",
      "         Iterations 5\n",
      "Optimization terminated successfully.\n",
      "         Current function value: 0.610615\n",
      "         Iterations 5\n",
      "Optimization terminated successfully.\n",
      "         Current function value: 0.609278\n",
      "         Iterations 5\n",
      "Optimization terminated successfully.\n",
      "         Current function value: 0.608642\n",
      "         Iterations 5\n",
      "Optimization terminated successfully.\n",
      "         Current function value: 0.609213\n",
      "         Iterations 5\n"
     ]
    },
    {
     "data": {
      "text/plain": [
       "['BloodPressure', 'Glucose', 'Pregnancies', 'Age', 'DiabetesPedigreeFunction']"
      ]
     },
     "execution_count": 26,
     "metadata": {},
     "output_type": "execute_result"
    }
   ],
   "source": [
    "forward_selected(diabetes, 'Outcome')"
   ]
  },
  {
   "cell_type": "code",
   "execution_count": null,
   "id": "XjTNqQpOI4jc",
   "metadata": {
    "colab": {
     "base_uri": "https://localhost:8080/",
     "height": 371
    },
    "id": "XjTNqQpOI4jc",
    "outputId": "9936d04b-ea89-49af-d3ee-feaa07da4dcf"
   },
   "outputs": [
    {
     "name": "stdout",
     "output_type": "stream",
     "text": [
      "Optimization terminated successfully.\n",
      "         Current function value: 0.606195\n",
      "         Iterations 5\n"
     ]
    },
    {
     "data": {
      "text/html": [
       "<table class=\"simpletable\">\n",
       "<tr>\n",
       "        <td>Model:</td>              <td>Logit</td>      <td>Pseudo R-squared:</td>    <td>0.064</td>  \n",
       "</tr>\n",
       "<tr>\n",
       "  <td>Dependent Variable:</td>      <td>Outcome</td>           <td>AIC:</td>         <td>847.7616</td> \n",
       "</tr>\n",
       "<tr>\n",
       "         <td>Date:</td>        <td>2022-01-22 07:24</td>       <td>BIC:</td>         <td>870.4523</td> \n",
       "</tr>\n",
       "<tr>\n",
       "   <td>No. Observations:</td>         <td>691</td>        <td>Log-Likelihood:</td>    <td>-418.88</td> \n",
       "</tr>\n",
       "<tr>\n",
       "       <td>Df Model:</td>              <td>4</td>            <td>LL-Null:</td>        <td>-447.48</td> \n",
       "</tr>\n",
       "<tr>\n",
       "     <td>Df Residuals:</td>           <td>686</td>         <td>LLR p-value:</td>    <td>1.1258e-11</td>\n",
       "</tr>\n",
       "<tr>\n",
       "      <td>Converged:</td>           <td>1.0000</td>           <td>Scale:</td>         <td>1.0000</td>  \n",
       "</tr>\n",
       "<tr>\n",
       "    <td>No. Iterations:</td>        <td>5.0000</td>              <td></td>               <td></td>     \n",
       "</tr>\n",
       "</table>\n",
       "<table class=\"simpletable\">\n",
       "<tr>\n",
       "              <td></td>              <th>Coef.</th>  <th>Std.Err.</th>    <th>z</th>     <th>P>|z|</th> <th>[0.025</th>  <th>0.975]</th> \n",
       "</tr>\n",
       "<tr>\n",
       "  <th>BloodPressure</th>            <td>-0.0315</td>  <td>0.0043</td>  <td>-7.2546</td> <td>0.0000</td> <td>-0.0400</td> <td>-0.0230</td>\n",
       "</tr>\n",
       "<tr>\n",
       "  <th>Glucose</th>                  <td>0.0143</td>   <td>0.0026</td>  <td>5.5802</td>  <td>0.0000</td> <td>0.0092</td>  <td>0.0193</td> \n",
       "</tr>\n",
       "<tr>\n",
       "  <th>Pregnancies</th>              <td>0.1438</td>   <td>0.0310</td>  <td>4.6446</td>  <td>0.0000</td> <td>0.0831</td>  <td>0.2045</td> \n",
       "</tr>\n",
       "<tr>\n",
       "  <th>Age</th>                      <td>-0.0230</td>  <td>0.0091</td>  <td>-2.5326</td> <td>0.0113</td> <td>-0.0408</td> <td>-0.0052</td>\n",
       "</tr>\n",
       "<tr>\n",
       "  <th>DiabetesPedigreeFunction</th> <td>0.3850</td>   <td>0.2464</td>  <td>1.5628</td>  <td>0.1181</td> <td>-0.0978</td> <td>0.8679</td> \n",
       "</tr>\n",
       "</table>"
      ],
      "text/plain": [
       "<class 'statsmodels.iolib.summary2.Summary'>\n",
       "\"\"\"\n",
       "                             Results: Logit\n",
       "========================================================================\n",
       "Model:                 Logit              Pseudo R-squared:   0.064     \n",
       "Dependent Variable:    Outcome            AIC:                847.7616  \n",
       "Date:                  2022-01-22 07:24   BIC:                870.4523  \n",
       "No. Observations:      691                Log-Likelihood:     -418.88   \n",
       "Df Model:              4                  LL-Null:            -447.48   \n",
       "Df Residuals:          686                LLR p-value:        1.1258e-11\n",
       "Converged:             1.0000             Scale:              1.0000    \n",
       "No. Iterations:        5.0000                                           \n",
       "------------------------------------------------------------------------\n",
       "                          Coef.  Std.Err.    z    P>|z|   [0.025  0.975]\n",
       "------------------------------------------------------------------------\n",
       "BloodPressure            -0.0315   0.0043 -7.2546 0.0000 -0.0400 -0.0230\n",
       "Glucose                   0.0143   0.0026  5.5802 0.0000  0.0092  0.0193\n",
       "Pregnancies               0.1438   0.0310  4.6446 0.0000  0.0831  0.2045\n",
       "Age                      -0.0230   0.0091 -2.5326 0.0113 -0.0408 -0.0052\n",
       "DiabetesPedigreeFunction  0.3850   0.2464  1.5628 0.1181 -0.0978  0.8679\n",
       "========================================================================\n",
       "\n",
       "\"\"\""
      ]
     },
     "execution_count": 27,
     "metadata": {},
     "output_type": "execute_result"
    }
   ],
   "source": [
    "### Choose the best subset\n",
    "y = diabetes['Outcome']\n",
    "X_best_set = diabetes[['BloodPressure', 'Glucose', 'Pregnancies', 'Age', 'DiabetesPedigreeFunction']]\n",
    "### Split the data into training and test dataset. 10% dataset is the test dataset.\n",
    "from sklearn.model_selection import train_test_split\n",
    "X_train, X_test, y_train, y_test = train_test_split(X_best_set, y, test_size=0.1, random_state=2)\n",
    "\n",
    "log_reg = sm.Logit(y_train, X_train).fit()\n",
    "log_reg.summary()\n",
    "log_reg.summary2()"
   ]
  },
  {
   "cell_type": "code",
   "execution_count": null,
   "id": "-MwsrQS3Jr2r",
   "metadata": {
    "colab": {
     "base_uri": "https://localhost:8080/",
     "height": 337
    },
    "id": "-MwsrQS3Jr2r",
    "outputId": "cc82c40e-5b0d-4b19-d037-39fdf8567d8c"
   },
   "outputs": [
    {
     "name": "stdout",
     "output_type": "stream",
     "text": [
      "Confusion Matrix : \n",
      " [[42  9]\n",
      " [14 12]]\n",
      "Test accuracy =  0.7012987012987013\n"
     ]
    },
    {
     "data": {
      "image/png": "[encoded data removed]",
      "text/plain": [
       "<Figure size 432x288 with 1 Axes>"
      ]
     },
     "metadata": {
      "needs_background": "light"
     },
     "output_type": "display_data"
    }
   ],
   "source": [
    "# performing predictions on the test datdaset\n",
    "yhat = log_reg.predict(X_test)\n",
    "prediction = list(map(round, yhat))\n",
    " \n",
    "# comparing original and predicted values of y\n",
    "\n",
    "from sklearn.metrics import (confusion_matrix,accuracy_score)\n",
    " \n",
    "# confusion matrix\n",
    "cm = confusion_matrix(y_test, prediction)\n",
    "print (\"Confusion Matrix : \\n\", cm)\n",
    " \n",
    "# accuracy score of the model\n",
    "print('Test accuracy = ', accuracy_score(y_test, prediction))\n",
    "\n",
    "plt.plot(prediction,\"b.\", label = \"y_pred\")   \n",
    "plt.plot(y_test,\"r*\", label = \"y_true\")   \n",
    "plt.legend()\n",
    "plt.show() "
   ]
  },
  {
   "cell_type": "markdown",
   "id": "8Sk7F2DPhrXR",
   "metadata": {
    "id": "8Sk7F2DPhrXR"
   },
   "source": [
    "After forward selection, 'BloodPressure', 'Glucose', 'Pregnancies', 'Age' and 'DiabetesPedigreeFunction' are identified as informative. Adding more variables to the model didn't further decrease the AIC score. \n",
    "Compared with the previous training model, the AIC score decreased from 851.7477 to 847.7616, and the predict accuracy increased from 67.5% to 70.13% which means the reduced model with forward stepwise is better for diabetes prediction.\n",
    "\n",
    "The model function is:\n",
    "$P(Y = 1|X) = \\frac{exp(-0.0315 BloodPressure + 0.0143 Glucose + 0.1438 Pregnancies - 0.0230 Age + 0.3850 DiabetesPedigreeFunction)}{1+exp(-0.0315 BloodPressure + 0.0143 Glucose + 0.1438 Pregnancies - 0.0230 Age + 0.3850 DiabetesPedigreeFunction)}$\n",
    "\n",
    "The p-values for Glucose, BMI, Age and Pregnancies are statistically significant at 5% significance levels.\n"
   ]
  },
  {
   "cell_type": "markdown",
   "id": "QKlVWAp3W_D0",
   "metadata": {
    "id": "QKlVWAp3W_D0"
   },
   "source": [
    "Does the FDR ('False Significance') have impact on any of the above created models? Give appropriate reasoning for your conclusions.\n",
    "\n",
    "You could use any methods/plots as you like as long as you provide a reasonable argument. Just an explanation as to why it affects/doesn't affect should be good enough.\n",
    "Explain if FDR matters for all 3 models created (2 Linear, 1 Logistic)"
   ]
  },
  {
   "cell_type": "code",
   "execution_count": null,
   "id": "L7P5WMUCXDKG",
   "metadata": {
    "id": "L7P5WMUCXDKG"
   },
   "outputs": [],
   "source": [
    "import numpy as np\n",
    "import pandas as pd\n",
    "from pprint import pprint\n",
    "import statsmodels.formula.api as smf\n",
    "import statsmodels.api as sm\n",
    "import matplotlib.pyplot as plt\n",
    "from scipy.stats import rankdata"
   ]
  },
  {
   "cell_type": "code",
   "execution_count": null,
   "id": "DaTUfvtD8f9O",
   "metadata": {
    "id": "DaTUfvtD8f9O"
   },
   "outputs": [],
   "source": [
    "#q=false discovery rate\n",
    "#m=total number of tests\n",
    "\n",
    "def fdr_cut_plot(pvals):\n",
    "  pvals = np.array(pvals)\n",
    "  q = [0.1, 0.2, 0.3, 0.4, 0.5, 0.6, 0.7, 0.8, 0.9, 1.0]\n",
    "  rank_pvals = rankdata(pvals)\n",
    "  m = len(pvals)\n",
    "  cut = []\n",
    "  for i in q: \n",
    "    alpha = max(pvals[pvals<=(i*rank_pvals/m)])\n",
    "    cut.append(alpha)\n",
    "  \n",
    "  plt.plot(q,cut,'o-', color= 'b')\n",
    "  plt.xlabel(\"q=false discovery rate\")\n",
    "  plt.ylabel(\"p-value cuttoff\")\n",
    "  plt.show()\n",
    "  print('number of variables', m)\n",
    "  return cut"
   ]
  },
  {
   "cell_type": "code",
   "execution_count": null,
   "id": "WTsUIuoNJtpQ",
   "metadata": {
    "colab": {
     "base_uri": "https://localhost:8080/",
     "height": 476
    },
    "id": "WTsUIuoNJtpQ",
    "outputId": "e29a8151-acfc-4271-81d0-6e5998f32972"
   },
   "outputs": [
    {
     "data": {
      "image/png": "[encoded data removed]",
      "text/plain": [
       "<Figure size 432x288 with 1 Axes>"
      ]
     },
     "metadata": {
      "needs_background": "light"
     },
     "output_type": "display_data"
    },
    {
     "name": "stdout",
     "output_type": "stream",
     "text": [
      "number of variables 4\n"
     ]
    },
    {
     "data": {
      "text/plain": [
       "[1.2672945051315677e-17,\n",
       " 1.2672945051315677e-17,\n",
       " 1.2672945051315677e-17,\n",
       " 1.2672945051315677e-17,\n",
       " 1.2672945051315677e-17,\n",
       " 1.2672945051315677e-17,\n",
       " 1.2672945051315677e-17,\n",
       " 1.2672945051315677e-17,\n",
       " 0.8599150500805985,\n",
       " 0.8599150500805985]"
      ]
     },
     "execution_count": 31,
     "metadata": {},
     "output_type": "execute_result"
    }
   ],
   "source": [
    "#MODEL1: Q1 linear regression model without interaction\n",
    "fdr_cut_plot(results1.pvalues)\n",
    "### Until q value becomes 0.8, there is no change of p-value cutoff. So we can conclude that fdr does not impact on it. "
   ]
  },
  {
   "cell_type": "code",
   "execution_count": null,
   "id": "dJaikDmbLpes",
   "metadata": {
    "colab": {
     "base_uri": "https://localhost:8080/",
     "height": 476
    },
    "id": "dJaikDmbLpes",
    "outputId": "43e76eda-a0c4-46a3-eba7-07f1c43bb757"
   },
   "outputs": [
    {
     "data": {
      "image/png": "[encoded data removed]",
      "text/plain": [
       "<Figure size 432x288 with 1 Axes>"
      ]
     },
     "metadata": {
      "needs_background": "light"
     },
     "output_type": "display_data"
    },
    {
     "name": "stdout",
     "output_type": "stream",
     "text": [
      "number of variables 7\n"
     ]
    },
    {
     "data": {
      "text/plain": [
       "[0.045962166895833385,\n",
       " 0.09239922347982041,\n",
       " 0.09239922347982041,\n",
       " 0.09239922347982041,\n",
       " 0.09239922347982041,\n",
       " 0.09239922347982041,\n",
       " 0.6432918002182821,\n",
       " 0.6432918002182821,\n",
       " 0.6432918002182821,\n",
       " 0.6432918002182821]"
      ]
     },
     "execution_count": 32,
     "metadata": {},
     "output_type": "execute_result"
    }
   ],
   "source": [
    "#MODEL2: Q1 linear regression model with 2 ways interaction\n",
    "fdr_cut_plot(results2.pvalues)\n",
    "### There seems slightly more impact affected by fdr when comparing to the previous linear regression model without interaction."
   ]
  },
  {
   "cell_type": "code",
   "execution_count": null,
   "id": "JUOYfVrSL_Ly",
   "metadata": {
    "colab": {
     "base_uri": "https://localhost:8080/",
     "height": 476
    },
    "id": "JUOYfVrSL_Ly",
    "outputId": "d431b7bc-2fe3-4e67-bacc-12aa86714d1e"
   },
   "outputs": [
    {
     "data": {
      "image/png": "[encoded data removed]",
      "text/plain": [
       "<Figure size 432x288 with 1 Axes>"
      ]
     },
     "metadata": {
      "needs_background": "light"
     },
     "output_type": "display_data"
    },
    {
     "name": "stdout",
     "output_type": "stream",
     "text": [
      "number of variables 8\n"
     ]
    },
    {
     "data": {
      "text/plain": [
       "[9.950843532261533e-12,\n",
       " 9.950843532261533e-12,\n",
       " 9.950843532261533e-12,\n",
       " 9.950843532261533e-12,\n",
       " 0.2327548095627588,\n",
       " 0.2327548095627588,\n",
       " 0.2327548095627588,\n",
       " 0.5527913205747357,\n",
       " 0.778389316120172,\n",
       " 0.9850522171255566]"
      ]
     },
     "execution_count": 33,
     "metadata": {},
     "output_type": "execute_result"
    }
   ],
   "source": [
    "#MODEL3: Q1 linear regression model with 3 ways interaction\n",
    "fdr_cut_plot(results3.pvalues)\n",
    "### It has a strong impact affected by fdr because of the increased number of variables (when comparing to two previous models)."
   ]
  },
  {
   "cell_type": "code",
   "execution_count": null,
   "id": "CX-PO8riMH-k",
   "metadata": {
    "colab": {
     "base_uri": "https://localhost:8080/",
     "height": 476
    },
    "id": "CX-PO8riMH-k",
    "outputId": "3b1ac17d-57e8-4426-c956-9cf4bc9e71d0"
   },
   "outputs": [
    {
     "data": {
      "image/png": "[encoded data removed]",
      "text/plain": [
       "<Figure size 432x288 with 1 Axes>"
      ]
     },
     "metadata": {
      "needs_background": "light"
     },
     "output_type": "display_data"
    },
    {
     "name": "stdout",
     "output_type": "stream",
     "text": [
      "number of variables 36\n"
     ]
    },
    {
     "data": {
      "text/plain": [
       "[0.0005122710813303854,\n",
       " 0.03749877119522976,\n",
       " 0.12526943950983443,\n",
       " 0.19255309865021694,\n",
       " 0.23660442164307688,\n",
       " 0.3323427351562218,\n",
       " 0.41397455533572847,\n",
       " 0.544817130049758,\n",
       " 0.544817130049758,\n",
       " 0.9770374220579898]"
      ]
     },
     "execution_count": 34,
     "metadata": {},
     "output_type": "execute_result"
    }
   ],
   "source": [
    "#MODEL4: Q2 linear regression model without interaction\n",
    "fdr_cut_plot(model_2_1.pvalues)\n",
    "### It has a strong impact affected by fdr because of a large number of variables (42). "
   ]
  },
  {
   "cell_type": "code",
   "execution_count": null,
   "id": "MMI_stESNohX",
   "metadata": {
    "colab": {
     "base_uri": "https://localhost:8080/",
     "height": 476
    },
    "id": "MMI_stESNohX",
    "outputId": "d3a0a9e4-681a-4280-88d3-0080de7997a2"
   },
   "outputs": [
    {
     "data": {
      "image/png": "[encoded data removed]",
      "text/plain": [
       "<Figure size 432x288 with 1 Axes>"
      ]
     },
     "metadata": {
      "needs_background": "light"
     },
     "output_type": "display_data"
    },
    {
     "name": "stdout",
     "output_type": "stream",
     "text": [
      "number of variables 38\n"
     ]
    },
    {
     "data": {
      "text/plain": [
       "[0.02279385421679688,\n",
       " 0.045439352246257156,\n",
       " 0.11048407668932679,\n",
       " 0.16481124005486775,\n",
       " 0.305386657354557,\n",
       " 0.48606660083078324,\n",
       " 0.6427326475599499,\n",
       " 0.6788911819102312,\n",
       " 0.6788911819102312,\n",
       " 0.9851509061800091]"
      ]
     },
     "execution_count": 35,
     "metadata": {},
     "output_type": "execute_result"
    }
   ],
   "source": [
    "#MODEL5: Q2 linear regression model with interaction\n",
    "fdr_cut_plot(model_2_2.pvalues)\n",
    "### It has a strong impact affected by fdr because because of a large number of variables (44)."
   ]
  },
  {
   "cell_type": "code",
   "execution_count": null,
   "id": "H347QI2gPSlQ",
   "metadata": {
    "colab": {
     "base_uri": "https://localhost:8080/",
     "height": 476
    },
    "id": "H347QI2gPSlQ",
    "outputId": "36b56786-b24c-495a-cde4-a991304bf472"
   },
   "outputs": [
    {
     "data": {
      "image/png": "[encoded data removed]",
      "text/plain": [
       "<Figure size 432x288 with 1 Axes>"
      ]
     },
     "metadata": {
      "needs_background": "light"
     },
     "output_type": "display_data"
    },
    {
     "name": "stdout",
     "output_type": "stream",
     "text": [
      "number of variables 5\n"
     ]
    },
    {
     "data": {
      "text/plain": [
       "[0.011321090561436754,\n",
       " 0.11809141465902173,\n",
       " 0.11809141465902173,\n",
       " 0.11809141465902173,\n",
       " 0.11809141465902173,\n",
       " 0.11809141465902173,\n",
       " 0.11809141465902173,\n",
       " 0.11809141465902173,\n",
       " 0.11809141465902173,\n",
       " 0.11809141465902173]"
      ]
     },
     "execution_count": 36,
     "metadata": {},
     "output_type": "execute_result"
    }
   ],
   "source": [
    "#MODEL6: Q3 logistic regression model \n",
    "fdr_cut_plot(log_reg.pvalues)\n",
    "### It doesn't have a strong impact affected by fdr because of a small number of variables."
   ]
  },
  {
   "cell_type": "code",
   "execution_count": null,
   "id": "W0pqtw50x5sc",
   "metadata": {
    "id": "W0pqtw50x5sc"
   },
   "outputs": [],
   "source": [
    "'''\n",
    "Goal: how to apply the False Discovery Rate (FDR) formula in Python\n",
    "FDR = Benjamini-Hochberg procedure\n",
    "The purpose of the FDR adjustment is for when you have thousands of p values, it will allow you to determine the subset of p-values for which you are even more confident there is no Type 1 (false positive) error made.\n",
    "Formula: p_val*len_p_val_list/rank\n",
    "'''\n",
    "def fdr_adj_P(model):\n",
    "  p_val_list = np.array(model.pvalues)\n",
    "  # now perform the FDR adjustment\n",
    "  # start by sorting the list asc\n",
    "  p_val_list.sort()\n",
    "\n",
    "  # next, assign a rank to each item in list, start at 1\n",
    "  rank = 1\n",
    "  len_p_val_list = len(p_val_list)\n",
    "  p_adj_list = []\n",
    "  for p in p_val_list:\n",
    "      fdr_adj_p_val = p*len_p_val_list/rank\n",
    "      rank += 1\n",
    "      p_adj_list.append(\n",
    "          {\n",
    "              \"p_val\": p,\n",
    "              \"fdr_adj_p_val\": fdr_adj_p_val\n",
    "          }\n",
    "      )\n",
    "\n",
    "  result = pd.DataFrame(p_adj_list)\n",
    "\n",
    "  from matplotlib import pyplot\n",
    "  bins = len(p_adj_list)\n",
    "\n",
    "  pyplot.hist(result['p_val'], bins, alpha=0.5, label='p_val')\n",
    "  pyplot.hist(result['fdr_adj_p_val'], bins, alpha=0.5, label='fdr_adj_p_val')\n",
    "  pyplot.legend(loc='upper right')\n",
    "  pyplot.show()\n",
    "\n",
    "### An FDR adjusted p-value (or q-value) of 0.05 implies that 5% of significant tests will result in false positives. The latter will result in fewer false positives."
   ]
  },
  {
   "cell_type": "code",
   "execution_count": null,
   "id": "xp7zrA_Z2UzH",
   "metadata": {
    "colab": {
     "base_uri": "https://localhost:8080/",
     "height": 265
    },
    "id": "xp7zrA_Z2UzH",
    "outputId": "49c4d0b1-14a8-4978-927e-f1072f7a015d"
   },
   "outputs": [
    {
     "data": {
      "image/png": "[encoded data removed]",
      "text/plain": [
       "<Figure size 432x288 with 1 Axes>"
      ]
     },
     "metadata": {
      "needs_background": "light"
     },
     "output_type": "display_data"
    }
   ],
   "source": [
    "#MODEL1: Q1 linear regression model without interaction\n",
    "fdr_adj_P(results1)\n",
    "### The original p-value does not change much when apply the BH method to calculate FDR adjusted p-value.\n",
    "### We can conclude that the linear regression model without interaction is not strongly affected by FDR."
   ]
  },
  {
   "cell_type": "code",
   "execution_count": null,
   "id": "9aaLMSzR2aHF",
   "metadata": {
    "colab": {
     "base_uri": "https://localhost:8080/",
     "height": 265
    },
    "id": "9aaLMSzR2aHF",
    "outputId": "367474fa-30c9-4a1c-f5a3-508a84cd6d73"
   },
   "outputs": [
    {
     "data": {
      "image/png": "[encoded data removed]",
      "text/plain": [
       "<Figure size 432x288 with 1 Axes>"
      ]
     },
     "metadata": {
      "needs_background": "light"
     },
     "output_type": "display_data"
    }
   ],
   "source": [
    "#MODEL2: Q1 linear regression model with 2 ways interaction\n",
    "fdr_adj_P(results2)\n",
    "### The original p-value does not change much when apply the BH method to calculate FDR adjusted p-value.\n",
    "### We can conclude that the linear regression model with 2 ways interaction is not strongly affected by FDR."
   ]
  },
  {
   "cell_type": "code",
   "execution_count": null,
   "id": "FwD7tdB22aN6",
   "metadata": {
    "colab": {
     "base_uri": "https://localhost:8080/",
     "height": 265
    },
    "id": "FwD7tdB22aN6",
    "outputId": "28384abe-3d5a-460d-823a-0ad317cd128c"
   },
   "outputs": [
    {
     "data": {
      "image/png": "[encoded data removed]",
      "text/plain": [
       "<Figure size 432x288 with 1 Axes>"
      ]
     },
     "metadata": {
      "needs_background": "light"
     },
     "output_type": "display_data"
    }
   ],
   "source": [
    "#MODEL3: Q1 linear regression model with 3 ways interaction\n",
    "fdr_adj_P(results3)\n",
    "### The adjusted p-value increased the model has more p-value grows larger than 0.05/0.01 which indicates that if we use the original p-value, there might exist FDR problems.\n",
    "### We can conclude that the linear regression model with 3 ways interaction is affected by FDR."
   ]
  },
  {
   "cell_type": "code",
   "execution_count": null,
   "id": "1mlABxvj2aVT",
   "metadata": {
    "colab": {
     "base_uri": "https://localhost:8080/",
     "height": 265
    },
    "id": "1mlABxvj2aVT",
    "outputId": "0db58df7-db41-46ea-d55c-a6519b5690e5"
   },
   "outputs": [
    {
     "data": {
      "image/png": "[encoded data removed]",
      "text/plain": [
       "<Figure size 432x288 with 1 Axes>"
      ]
     },
     "metadata": {
      "needs_background": "light"
     },
     "output_type": "display_data"
    }
   ],
   "source": [
    "#MODEL4: Q2 linear regression model without interaction\n",
    "fdr_adj_P(model_2_1)\n",
    "### The adjusted p-value increased the model has more p-value grows larger than 0.05/0.01 which indicates that if we use the original p-value, there might exists FDR problems.\n",
    "### We can conclude that the linear regression model without interaction in Q2 is affected by FDR."
   ]
  },
  {
   "cell_type": "code",
   "execution_count": null,
   "id": "FGVvfMNp2abQ",
   "metadata": {
    "colab": {
     "base_uri": "https://localhost:8080/",
     "height": 265
    },
    "id": "FGVvfMNp2abQ",
    "outputId": "e2fa02f6-cf2a-41bf-e7cf-e782bc3fe022"
   },
   "outputs": [
    {
     "data": {
      "image/png": "[encoded data removed]",
      "text/plain": [
       "<Figure size 432x288 with 1 Axes>"
      ]
     },
     "metadata": {
      "needs_background": "light"
     },
     "output_type": "display_data"
    }
   ],
   "source": [
    "#MODEL5: Q2 linear regression model with interaction\n",
    "fdr_adj_P(model_2_2)\n",
    "### The adjusted p value increased the model has more p-value grows larger than 0.05/0.01 which indicates that if we use the original p-value, there might exists FDR problems.\n",
    "### We can conclude that the linear regression model with interaction in Q2 is strongly affected by FDR."
   ]
  },
  {
   "cell_type": "code",
   "execution_count": null,
   "id": "kY5FEpWc2afI",
   "metadata": {
    "colab": {
     "base_uri": "https://localhost:8080/",
     "height": 265
    },
    "id": "kY5FEpWc2afI",
    "outputId": "43b17eee-520d-4ea0-a7f5-138e5903b1ea"
   },
   "outputs": [
    {
     "data": {
      "image/png": "[encoded data removed]",
      "text/plain": [
       "<Figure size 432x288 with 1 Axes>"
      ]
     },
     "metadata": {
      "needs_background": "light"
     },
     "output_type": "display_data"
    }
   ],
   "source": [
    "#MODEL6: Q3 logistic regression model \n",
    "fdr_adj_P(log_reg)\n",
    "### The original p-value not change much when apply the BH method to calculate FDR adjusted p-value.\n",
    "### We can conclude that the logistic regression model is not strongly affected by FDR."
   ]
  },
  {
   "cell_type": "markdown",
   "id": "WfUsUQ4cKqEV",
   "metadata": {
    "id": "WfUsUQ4cKqEV"
   },
   "source": [
    "When we set up 𝛼 as 5% for every single regressor test, the probability of falsely rejecting null (deeming the regressor as significant even though it is not actually significant) is 5%. We can say that it is type I error.\n",
    "\n",
    "False discoveries occur when we wrongfully reject the null hypothesis. Through the plots and charts that we drew, we can conclude that FDR has impact on some of our models with a large number of regressors.\n",
    "\n"
   ]
  }
 ],
 "metadata": {
  "colab": {
   "collapsed_sections": [],
   "name": "ML-Group1.ipynb",
   "provenance": []
  },
  "kernelspec": {
   "display_name": "Python 3 (ipykernel)",
   "language": "python",
   "name": "python3"
  },
  "language_info": {
   "codemirror_mode": {
    "name": "ipython",
    "version": 3
   },
   "file_extension": ".py",
   "mimetype": "text/x-python",
   "name": "python",
   "nbconvert_exporter": "python",
   "pygments_lexer": "ipython3",
   "version": "3.9.0"
  }
 },
 "nbformat": 4,
 "nbformat_minor": 5
}
